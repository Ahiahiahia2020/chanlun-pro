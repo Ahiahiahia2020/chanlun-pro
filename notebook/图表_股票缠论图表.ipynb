{
 "cells": [
  {
   "cell_type": "markdown",
   "metadata": {
    "pycharm": {
     "name": "#%% md\n"
    }
   },
   "source": [
    "# 缠论数据图表"
   ]
  },
  {
   "cell_type": "code",
   "execution_count": null,
   "metadata": {
    "pycharm": {
     "name": "#%%\n"
    },
    "tags": []
   },
   "outputs": [],
   "source": [
    "import time\n",
    "\n",
    "from chanlun import kcharts\n",
    "from chanlun.cl_utils import query_cl_chart_config\n",
    "from chanlun.exchange import get_exchange, Market\n",
    "from chanlun.exchange.exchange_db import ExchangeDB\n",
    "from chanlun import cl\n",
    "\n",
    "import itertools\n",
    "import talib\n",
    "from chanlun.cl_utils import *\n",
    "from chanlun.cl_interface import Config\n"
   ]
  },
  {
   "cell_type": "code",
   "execution_count": null,
   "metadata": {
    "pycharm": {
     "name": "#%%\n"
    },
    "tags": []
   },
   "outputs": [],
   "source": [
    "# 市场\n",
    "market = 'a'  # a 沪深A股  hk 港股 us 美股 futures 期货 currency 数字货币\n",
    "# 标的代码\n",
    "code = 'SH.600036'\n",
    "\n",
    "# code = 'SZ.000404'  #7.8预警,黄线新低，MACD柱子不创新高\n",
    "# code = 'SZ.000419' 6.24预警，黄线新低。MACD柱子不创新高\n",
    "# code = 'sz.000547' 6.24预警，黄线新低，但是MACD柱子在最低位\n",
    "# code = 'SZ.000532'\n",
    "# 获取周期，可设置多个\n",
    "frequencys = ['d']\n",
    "# frequencys = ['30m','5m']\n",
    "# 开始时间（需要api接口支持）\n",
    "start_date = None\n",
    "# 结束时间（需要api接口支持）\n",
    "end_date = None\n",
    "# 缠论计算配置\n",
    "cl_config = query_cl_chart_config(market, code)\n",
    "print(cl_config)\n",
    "ex = get_exchange(Market(market)) # 使用在线的k线数据接口\n",
    "# ex = ExchangeDB(market) # 读取数据库中的k线数据"
   ]
  },
  {
   "cell_type": "code",
   "execution_count": null,
   "metadata": {},
   "outputs": [],
   "source": [
    "klines[:-800].tail(3)"
   ]
  },
  {
   "cell_type": "code",
   "execution_count": null,
   "metadata": {},
   "outputs": [],
   "source": [
    "klines[:-797].tail(1)\n",
    "#baocuo "
   ]
  },
  {
   "cell_type": "code",
   "execution_count": null,
   "metadata": {},
   "outputs": [],
   "source": [
    "klines[:-798].tail(1)"
   ]
  },
  {
   "cell_type": "code",
   "execution_count": null,
   "metadata": {
    "pycharm": {
     "name": "#%%\n"
    },
    "tags": []
   },
   "outputs": [],
   "source": [
    "renders = []\n",
    "cl_datas = []\n",
    "\n",
    "\n",
    "for f in frequencys:\n",
    "    klines = ex.klines(code, frequency=f, start_date=start_date, end_date=end_date)\n",
    "    klines = klines[:]\n",
    "    print(f, '获取K线数据量：', len(klines))\n",
    "    _s = time.time()\n",
    "    cl_datas.append(cl.CL(code, f, cl_config).process_klines(klines[:-798]))\n",
    "    print('Run time: ', time.time() - _s)\n",
    "\n",
    "for cd in cl_datas:\n",
    "    title = '%s - 【%s】 周期数据图表' % (code, cd.frequency)\n",
    "    renders.append(kcharts.render_charts(title, cd))"
   ]
  },
  {
   "cell_type": "code",
   "execution_count": null,
   "metadata": {
    "pycharm": {
     "name": "#%%\n"
    }
   },
   "outputs": [],
   "source": [
    "# 最后一个向下线段\n",
    "xd = cl_datas[0].xds[-1]\n",
    "if xd.type == 'up':\n",
    "    xd = cl_datas[0].xds[-2]\n",
    "print(xd)\n",
    "compare_xingcheng_ld(xd.start_line,xd.end_line)"
   ]
  },
  {
   "cell_type": "code",
   "execution_count": null,
   "metadata": {},
   "outputs": [],
   "source": [
    "xd = cl_datas[0].xds[-1]\n",
    "print(klines[:-797].tail(1))\n",
    "print(xd.end.done)\n",
    "print(xd.is_done())\n",
    "print(xd.end_line.is_done())\n",
    "print(xd.end_line.end)"
   ]
  },
  {
   "cell_type": "code",
   "execution_count": null,
   "metadata": {},
   "outputs": [],
   "source": [
    "xd = cl_datas[0].xds[-1]\n",
    "print(xd)\n",
    "print(xd.low)\n",
    "line = cl_datas[0].xds[-2]\n",
    "print(line)\n",
    "print(line.low)"
   ]
  },
  {
   "cell_type": "code",
   "execution_count": null,
   "metadata": {},
   "outputs": [],
   "source": [
    "line.low > xd.low"
   ]
  },
  {
   "cell_type": "code",
   "execution_count": null,
   "metadata": {},
   "outputs": [],
   "source": [
    "cd = cl_datas[0]\n",
    "lines = cd.get_xds()\n",
    "line = lines[-1]\n",
    "line.low > lines[-3].low"
   ]
  },
  {
   "cell_type": "code",
   "execution_count": null,
   "metadata": {},
   "outputs": [],
   "source": [
    "# 最后一个向下趋势段\n",
    "xd = cl_datas[0].zsds[-1]\n",
    "if xd.type == 'up':\n",
    "    xd = cl_datas[0].zsds[-2]\n",
    "print(xd)\n",
    "compare_xingcheng_ld(xd.start_line,xd.end_line)"
   ]
  },
  {
   "cell_type": "code",
   "execution_count": null,
   "metadata": {},
   "outputs": [],
   "source": [
    "for mmd in xd.mmds: \n",
    "    print(mmd)"
   ]
  },
  {
   "cell_type": "code",
   "execution_count": null,
   "metadata": {},
   "outputs": [],
   "source": []
  },
  {
   "cell_type": "code",
   "execution_count": null,
   "metadata": {
    "pycharm": {
     "is_executing": true,
     "name": "#%%\n"
    },
    "tags": []
   },
   "outputs": [],
   "source": [
    "renders[0]"
   ]
  },
  {
   "cell_type": "code",
   "execution_count": null,
   "metadata": {
    "pycharm": {
     "is_executing": true,
     "name": "#%%\n"
    },
    "tags": []
   },
   "outputs": [],
   "source": [
    "renders[1]"
   ]
  },
  {
   "cell_type": "code",
   "execution_count": null,
   "metadata": {
    "pycharm": {
     "name": "#%%\n"
    }
   },
   "outputs": [],
   "source": [
    "renders[2]"
   ]
  },
  {
   "cell_type": "code",
   "execution_count": null,
   "metadata": {
    "pycharm": {
     "name": "#%%\n"
    }
   },
   "outputs": [],
   "source": [
    "renders[3]"
   ]
  },
  {
   "cell_type": "markdown",
   "metadata": {
    "pycharm": {
     "name": "#%% md\n"
    }
   },
   "source": [
    "### 以下可以写自己代码获取所需并分析"
   ]
  },
  {
   "cell_type": "code",
   "execution_count": null,
   "metadata": {
    "pycharm": {
     "name": "#%%\n"
    }
   },
   "outputs": [],
   "source": [
    "def xingchenglidu(line: LINE) -> list:\n",
    "    \"\"\"\n",
    "    计算线的行程力度（取绝对值）\n",
    "\n",
    "    行程力度 = dy / dx\n",
    "        dy = 终点与起点的绝对值差异\n",
    "        dx = 线段之间的k线数量\n",
    "    \"\"\"\n",
    "    if line.end.val == line.start.val:\n",
    "        return 0\n",
    "\n",
    "    dy = abs(line.end.val - line.start.val)\n",
    "    dx = line.end.k.k_index - line.start.k.k_index\n",
    "    return [dy, dx, dy/dx]\n",
    "\n",
    "def compare_xingcheng_ld(one_line: LINE, two_line: LINE):\n",
    "    \"\"\"\n",
    "    比较两个线的力度，后者小于前者，返回 True\n",
    "    :param one_line:\n",
    "    :param two_line:\n",
    "    :return:\n",
    "    \"\"\"\n",
    "    dy1, dx1, ld1 = xingchenglidu(one_line)\n",
    "    dy2, dx2, ld2 = xingchenglidu(two_line)\n",
    "    if ( (dy2 > dy1) and  (ld2 < ld1)):\n",
    "        return True\n",
    "    else:\n",
    "        return False"
   ]
  }
 ],
 "metadata": {
  "kernelspec": {
   "display_name": "Python 3 (ipykernel)",
   "language": "python",
   "name": "python3"
  },
  "language_info": {
   "codemirror_mode": {
    "name": "ipython",
    "version": 3
   },
   "file_extension": ".py",
   "mimetype": "text/x-python",
   "name": "python",
   "nbconvert_exporter": "python",
   "pygments_lexer": "ipython3",
   "version": "3.11.10"
  }
 },
 "nbformat": 4,
 "nbformat_minor": 4
}
