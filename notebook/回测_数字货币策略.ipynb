{
 "cells": [
  {
   "cell_type": "code",
   "execution_count": 44,
   "metadata": {
    "pycharm": {
     "name": "#%%\n"
    },
    "tags": []
   },
   "outputs": [],
   "source": [
    "import pandas as pd\n",
    "from chanlun.backtesting import backtest\n",
    "from chanlun.strategy import my_strategy_futures_xd_zs\n",
    "from chanlun.cl_utils import query_cl_chart_config"
   ]
  },
  {
   "cell_type": "markdown",
   "metadata": {
    "pycharm": {
     "name": "#%% md\n"
    }
   },
   "source": [
    "## 注意事项\n",
    "回测前要确保已经同步回测时间段内的行情数据到数据库中\n",
    "\n",
    "同步行情数据请参考 /script/crontab/ 目录下的脚本"
   ]
  },
  {
   "cell_type": "markdown",
   "metadata": {
    "pycharm": {
     "name": "#%% md\n"
    }
   },
   "source": [
    "## 注意事项\n",
    "回测前要确保已经同步回测时间段内的行情数据到数据库中\n",
    "\n",
    "同步行情数据请参考 /script/crontab/ 目录下的脚本"
   ]
  },
  {
   "cell_type": "code",
   "execution_count": 45,
   "metadata": {
    "pycharm": {
     "name": "#%%\n"
    },
    "tags": []
   },
   "outputs": [],
   "source": [
    "# 量化配置\n",
    "bt_config = {\n",
    "    # 策略结果保存的文件\n",
    "    'save_file': './strategy_futures_xd_zs.pkl',\n",
    "    # 设置策略对象\n",
    "    'strategy': my_strategy_futures_xd_zs.StrategyFuturesXDZS(),\n",
    "    # 回测模式：signal 信号模式，固定金额开仓； trade 交易模式，按照实际金额开仓\n",
    "    'mode': 'trade',\n",
    "    # 市场配置，currency 数字货币  a 沪深  hk  港股  futures  期货\n",
    "    'market': 'currency',\n",
    "    # 基准代码，用于获取回测的时间列表\n",
    "    'base_code': 'BTC/USDT',\n",
    "    # 回测的标的代码\n",
    "    'codes': ['BTC/USDT'],\n",
    "    # 回测的周期，这里设置里，在策略中才能取到对应周期的数据\n",
    "    'frequencys': ['1m'],\n",
    "    # 回测开始的时间\n",
    "    'start_datetime': '2024-11-02 00:00:00',\n",
    "    # 回测的结束时间\n",
    "    'end_datetime': '2024-11-26 00:00:00',\n",
    "    # 是否是股票，True 当日开仓不可平仓，False 当日开当日可平\n",
    "    'is_stock': False,\n",
    "    # 是否是期货，True 可做空，False 不可做空\n",
    "    'is_futures': True,\n",
    "     # mode 为 trade 生效，初始账户资金\n",
    "    'init_balance': 1000000,\n",
    "    # mode 为 trade 生效，交易手续费率\n",
    "    'fee_rate': 0.0005,\n",
    "    # mode 为 trade 生效，最大持仓数量（分仓）\n",
    "    'max_pos': 1,\n",
    "    # 缠论计算的配置，详见缠论配置说明\n",
    "    'cl_config': query_cl_chart_config('currency', 'BTC/USDT'),\n",
    "}\n",
    "\n",
    "BT = backtest.BackTest(bt_config)\n",
    "BT.datas.load_data_to_cache = True # 是否将所有k线数据加载到内存中，如果内存吃紧，可以设置为 False，这样每次循环都会从数据库中读取\n",
    "BT.datas.load_kline_nums = 10000 # 每次 klines 方法中返回的k线数据条数\n",
    "BT.datas.cl_data_kline_max_nums = 30000 # 回测过程中，如果缠论对象的数据量超过这个值，则会清空重新计算，cl_data_kline_max_nums 不能小于 load_kline_nums，否则将会不断的删除并重新计算"
   ]
  },
  {
   "cell_type": "code",
   "execution_count": 42,
   "metadata": {
    "pycharm": {
     "name": "#%%\n"
    },
    "scrolled": true,
    "tags": []
   },
   "outputs": [
    {
     "data": {
      "application/vnd.jupyter.widget-view+json": {
       "model_id": "87e9a0eae102449796093e466756dd53",
       "version_major": 2,
       "version_minor": 0
      },
      "text/plain": [
       "Run BTC/USDT:   0%|          | 0/24790 [00:00<?, ?it/s]"
      ]
     },
     "metadata": {},
     "output_type": "display_data"
    },
    {
     "name": "stderr",
     "output_type": "stream",
     "text": [
      "[BTC/USDT - 2024-11-26 20:30:17.417276] // 1sell 做空卖出（69010.4 - 14.345663841971646），原因： 中枢震荡，向上线段完成，卖出做空\n",
      "[BTC/USDT - 2024-11-26 20:30:17.613004] // 1sell 平仓做空（69159.1 - 14.345663841971646） 盈亏：-3125.333413514646 (-0.32%)，原因： 1sell 止损 （止损价格 69146.3 当前价格 69159.1）\n",
      "[BTC/USDT - 2024-11-26 20:30:17.834634] // 1sell 做空卖出（69001.4 - 14.302709450166606），原因： 中枢震荡，向上线段完成，卖出做空\n",
      "[BTC/USDT - 2024-11-26 20:30:21.215387] // 1sell 平仓做空（69015.4 - 14.302709450166606） 盈亏：-1187.3451460893189 (-0.12%)，原因： 1sell 止损 （止损价格 69001.4 当前价格 69015.4）\n",
      "[BTC/USDT - 2024-11-26 20:31:03.223260] // 1sell 做空卖出（75870.3 - 12.99232510320737），原因： 中枢震荡，向上线段完成，卖出做空\n",
      "[BTC/USDT - 2024-11-26 20:31:03.393490] // 1sell 平仓做空（76088.8 - 12.99232510320737） 盈亏：-3827.393461363807 (-0.39%)，原因： 1sell 止损 （止损价格 76077.2 当前价格 76088.8）\n",
      "[BTC/USDT - 2024-11-26 20:31:03.593893] // 1sell 做空卖出（76121.2 - 12.899742633701603），原因： 中枢震荡，向上线段完成，卖出做空\n",
      "[BTC/USDT - 2024-11-26 20:31:06.144778] // 1sell 平仓做空（76124.8 - 12.899742633701603） 盈亏：-1028.4294015234884 (-0.10%)，原因： 1sell 止损 （止损价格 76121.2 当前价格 76124.8）\n",
      "[BTC/USDT - 2024-11-26 20:31:06.298312] // 1sell 做空卖出（76010.5 - 12.905135038558612），原因： 中枢震荡，向上线段完成，卖出做空\n",
      "[BTC/USDT - 2024-11-26 20:31:07.318109] // 1sell 平仓做空（76032.9 - 12.905135038558612） 盈亏：-1270.2898667368117 (-0.13%)，原因： 1sell 止损 （止损价格 76010.5 当前价格 76032.9）\n",
      "[BTC/USDT - 2024-11-26 20:31:07.603644] // 1sell 做空卖出（75936.5 - 12.901151922625186），原因： 中枢震荡，向上线段完成，卖出做空\n",
      "[BTC/USDT - 2024-11-26 20:31:09.343074] // 1sell 平仓做空（76309.6 - 12.901151922625186） 盈亏：-5797.901525086321 (-0.59%)，原因： 1sell 止损 （止损价格 76247.0 当前价格 76309.6）\n",
      "[BTC/USDT - 2024-11-26 20:31:09.541673] // 1sell 做空卖出（76134.9 - 12.7921726186727），原因： 中枢震荡，向上线段完成，卖出做空\n",
      "[BTC/USDT - 2024-11-26 20:31:12.014977] // 1sell 平仓做空（76146.8 - 12.7921726186727） 盈亏：-1126.309864121837 (-0.12%)，原因： 1sell 止损 （止损价格 76134.9 当前价格 76146.8）\n",
      "[BTC/USDT - 2024-11-26 20:31:19.230957] // 1sell 做空卖出（76333.3 - 12.744317508770044），原因： 中枢震荡，向上线段完成，卖出做空\n",
      "[BTC/USDT - 2024-11-26 20:31:19.296989] // 1sell 平仓做空（76397.6 - 12.744317508770044） 盈亏：-1793.094887121928 (-0.18%)，原因： 1sell 止损 （止损价格 76390.5 当前价格 76397.6）\n",
      "[BTC/USDT - 2024-11-26 20:32:23.152636] // 1sell 做空卖出（89968.0 - 10.7931826136677），原因： 中枢震荡，向上线段完成，卖出做空\n",
      "[BTC/USDT - 2024-11-26 20:32:23.255197] // 1sell 平仓做空（90130.7 - 10.7931826136677） 盈亏：-2728.8479154414085 (-0.28%)，原因： 1sell 止损 （止损价格 90084.6 当前价格 90130.7）\n",
      "执行 BTC/USDT : 2024-11-15 02:39:00+08:00 异常\n",
      "Traceback (most recent call last):\n",
      "  File \"C:\\chanlun20141115\\chanlun-pro\\src\\chanlun\\backtesting\\backtest.py\", line 247, in run\n",
      "    self.trader.run(code, is_filter=self.strategy.is_filter_opts())\n",
      "  File \"C:\\chanlun20141115\\chanlun-pro\\src\\chanlun\\backtesting\\backtest_trader.py\", line 318, in run\n",
      "    opts = self.strategy.open(code=code, market_data=self.datas, poss=poss)\n",
      "           ^^^^^^^^^^^^^^^^^^^^^^^^^^^^^^^^^^^^^^^^^^^^^^^^^^^^^^^^^^^^^^^^\n",
      "  File \"C:\\chanlun20141115\\chanlun-pro\\src\\chanlun\\strategy\\strategy_futures_xd_zs.py\", line 89, in open\n",
      "    and high_bi.low > high_xd.di_fx.xls[-1].min\n",
      "                      ^^^^^^^^^^^^^^^^^^^^^^^^^\n",
      "AttributeError: 'NoneType' object has no attribute 'min'\n",
      "\n",
      "执行 BTC/USDT : 2024-11-15 02:40:00+08:00 异常\n",
      "Traceback (most recent call last):\n",
      "  File \"C:\\chanlun20141115\\chanlun-pro\\src\\chanlun\\backtesting\\backtest.py\", line 247, in run\n",
      "    self.trader.run(code, is_filter=self.strategy.is_filter_opts())\n",
      "  File \"C:\\chanlun20141115\\chanlun-pro\\src\\chanlun\\backtesting\\backtest_trader.py\", line 318, in run\n",
      "    opts = self.strategy.open(code=code, market_data=self.datas, poss=poss)\n",
      "           ^^^^^^^^^^^^^^^^^^^^^^^^^^^^^^^^^^^^^^^^^^^^^^^^^^^^^^^^^^^^^^^^\n",
      "  File \"C:\\chanlun20141115\\chanlun-pro\\src\\chanlun\\strategy\\strategy_futures_xd_zs.py\", line 89, in open\n",
      "    and high_bi.low > high_xd.di_fx.xls[-1].min\n",
      "                      ^^^^^^^^^^^^^^^^^^^^^^^^^\n",
      "AttributeError: 'NoneType' object has no attribute 'min'\n",
      "\n",
      "执行 BTC/USDT : 2024-11-15 02:41:00+08:00 异常\n",
      "Traceback (most recent call last):\n",
      "  File \"C:\\chanlun20141115\\chanlun-pro\\src\\chanlun\\backtesting\\backtest.py\", line 247, in run\n",
      "    self.trader.run(code, is_filter=self.strategy.is_filter_opts())\n",
      "  File \"C:\\chanlun20141115\\chanlun-pro\\src\\chanlun\\backtesting\\backtest_trader.py\", line 318, in run\n",
      "    opts = self.strategy.open(code=code, market_data=self.datas, poss=poss)\n",
      "           ^^^^^^^^^^^^^^^^^^^^^^^^^^^^^^^^^^^^^^^^^^^^^^^^^^^^^^^^^^^^^^^^\n",
      "  File \"C:\\chanlun20141115\\chanlun-pro\\src\\chanlun\\strategy\\strategy_futures_xd_zs.py\", line 89, in open\n",
      "    and high_bi.low > high_xd.di_fx.xls[-1].min\n",
      "                      ^^^^^^^^^^^^^^^^^^^^^^^^^\n",
      "AttributeError: 'NoneType' object has no attribute 'min'\n",
      "\n",
      "执行 BTC/USDT : 2024-11-15 02:42:00+08:00 异常\n",
      "Traceback (most recent call last):\n",
      "  File \"C:\\chanlun20141115\\chanlun-pro\\src\\chanlun\\backtesting\\backtest.py\", line 247, in run\n",
      "    self.trader.run(code, is_filter=self.strategy.is_filter_opts())\n",
      "  File \"C:\\chanlun20141115\\chanlun-pro\\src\\chanlun\\backtesting\\backtest_trader.py\", line 318, in run\n",
      "    opts = self.strategy.open(code=code, market_data=self.datas, poss=poss)\n",
      "           ^^^^^^^^^^^^^^^^^^^^^^^^^^^^^^^^^^^^^^^^^^^^^^^^^^^^^^^^^^^^^^^^\n",
      "  File \"C:\\chanlun20141115\\chanlun-pro\\src\\chanlun\\strategy\\strategy_futures_xd_zs.py\", line 89, in open\n",
      "    and high_bi.low > high_xd.di_fx.xls[-1].min\n",
      "                      ^^^^^^^^^^^^^^^^^^^^^^^^^\n",
      "AttributeError: 'NoneType' object has no attribute 'min'\n",
      "\n",
      "执行 BTC/USDT : 2024-11-15 02:47:00+08:00 异常\n",
      "Traceback (most recent call last):\n",
      "  File \"C:\\chanlun20141115\\chanlun-pro\\src\\chanlun\\backtesting\\backtest.py\", line 247, in run\n",
      "    self.trader.run(code, is_filter=self.strategy.is_filter_opts())\n",
      "  File \"C:\\chanlun20141115\\chanlun-pro\\src\\chanlun\\backtesting\\backtest_trader.py\", line 318, in run\n",
      "    opts = self.strategy.open(code=code, market_data=self.datas, poss=poss)\n",
      "           ^^^^^^^^^^^^^^^^^^^^^^^^^^^^^^^^^^^^^^^^^^^^^^^^^^^^^^^^^^^^^^^^\n",
      "  File \"C:\\chanlun20141115\\chanlun-pro\\src\\chanlun\\strategy\\strategy_futures_xd_zs.py\", line 89, in open\n",
      "    and high_bi.low > high_xd.di_fx.xls[-1].min\n",
      "                      ^^^^^^^^^^^^^^^^^^^^^^^^^\n",
      "AttributeError: 'NoneType' object has no attribute 'min'\n",
      "\n",
      "执行 BTC/USDT : 2024-11-15 04:05:00+08:00 异常\n",
      "Traceback (most recent call last):\n",
      "  File \"C:\\chanlun20141115\\chanlun-pro\\src\\chanlun\\backtesting\\backtest.py\", line 247, in run\n",
      "    self.trader.run(code, is_filter=self.strategy.is_filter_opts())\n",
      "  File \"C:\\chanlun20141115\\chanlun-pro\\src\\chanlun\\backtesting\\backtest_trader.py\", line 318, in run\n",
      "    opts = self.strategy.open(code=code, market_data=self.datas, poss=poss)\n",
      "           ^^^^^^^^^^^^^^^^^^^^^^^^^^^^^^^^^^^^^^^^^^^^^^^^^^^^^^^^^^^^^^^^\n",
      "  File \"C:\\chanlun20141115\\chanlun-pro\\src\\chanlun\\strategy\\strategy_futures_xd_zs.py\", line 89, in open\n",
      "    and high_bi.low > high_xd.di_fx.xls[-1].min\n",
      "                      ^^^^^^^^^^^^^^^^^^^^^^^^^\n",
      "AttributeError: 'NoneType' object has no attribute 'min'\n",
      "\n",
      "[BTC/USDT - 2024-11-26 20:32:41.526924] // 1buy 做多买入（88525.3 - 10.938571947175781），原因： 中枢震荡，向下线段完成，买入做多\n",
      "[BTC/USDT - 2024-11-26 20:32:45.361574] // 1buy 平仓做多（91216.9 - 10.938571947175781） 盈亏：28444.477629569894  (2.94%)，原因： 做多超过中枢低点后，笔出现 背驰 （['bi']） 买卖点 （['2sell', '1sell']） 后平仓\n",
      "[BTC/USDT - 2024-11-26 20:32:53.952523] // 1sell 做空卖出（90990.5 - 10.951857281446081），原因： 中枢震荡，向上线段完成，卖出做空\n",
      "[BTC/USDT - 2024-11-26 20:32:56.548778] // 1sell 平仓做空（91070.7 - 10.951857281446081） 盈亏：-1875.7322628933707 (-0.19%)，原因： 1sell 止损 （止损价格 90990.5 当前价格 91070.7）\n",
      "[BTC/USDT - 2024-11-26 20:33:16.953820] // 1buy 做多买入（91066.0 - 10.922390681537978），原因： 中枢震荡，向下线段完成，买入做多\n",
      "[BTC/USDT - 2024-11-26 20:33:17.562656] // 1buy 平仓做多（91793.1 - 10.922390681537978） 盈亏：6939.07016447681  (0.70%)，原因： 做多超过中枢低点后，笔出现 背驰 （['pz']） 买卖点 （[]） 后平仓\n",
      "运行完成，执行时间：222.8202714920044\n",
      "save to : ./strategy_futures_xd_zs.pkl\n"
     ]
    },
    {
     "name": "stdout",
     "output_type": "stream",
     "text": [
      "Done\n"
     ]
    }
   ],
   "source": [
    "# 运行回测\n",
    "BT.run()\n",
    "# 多进程回测，只支持信号回测模式\n",
    "# BT.run_process(max_workers=4)\n",
    "# 保存回测结果到文件中\n",
    "BT.save()\n",
    "print('Done')"
   ]
  },
  {
   "cell_type": "code",
   "execution_count": 43,
   "metadata": {
    "pycharm": {
     "name": "#%%\n"
    },
    "tags": []
   },
   "outputs": [
    {
     "name": "stderr",
     "output_type": "stream",
     "text": [
      "2024-11-26 20:34:06\n",
      "保存地址 : ./strategy_futures_xd_zs.pkl\n",
      "回测模式 【trade】 初始资金 【1000000】 手续费率 【0.0005】\n",
      "股票 【False】 期货 【True】 (股票限制当日卖出，期货限制是否做空)\n",
      "策略 : <chanlun.strategy.strategy_futures_xd_zs.StrategyFuturesXDZS object at 0x00000199BC19F610>\n",
      "基准代码 : BTC/USDT\n",
      "回测代码 : ['BTC/USDT']\n",
      "周期 : ['5m', '1m']\n",
      "起始时间 : 2024-11-02 00:00:00 结束时间 : 2024-11-26 00:00:00\n",
      "缠论配置 : {'config_use_type': 'common', 'kline_qk': 'none', 'judge_zs_qs_level': '1', 'kline_type': 'kline_default', 'fx_qy': 'fx_qy_three', 'fx_qj': 'fx_qj_k', 'fx_bh': 'fx_bh_no', 'bi_type': 'bi_type_old', 'bi_bzh': 'bi_bzh_yes', 'bi_qj': 'bi_qj_dd', 'bi_fx_cgd': 'bi_fx_cgd_yes', 'bi_split_k_cross_nums': '20,1', 'fx_check_k_nums': '13', 'allow_bi_fx_strict': '0', 'xd_qj': 'xd_qj_dd', 'zsd_qj': 'zsd_qj_dd', 'xd_zs_max_lines_split': '11', 'xd_allow_bi_pohuai': 'yes', 'xd_allow_split_no_highlow': '1', 'xd_allow_split_zs_kz': '0', 'xd_allow_split_zs_more_line': '1', 'xd_allow_split_zs_no_direction': '1', 'zs_bi_type': ['zs_type_dn'], 'zs_xd_type': ['zs_type_dn'], 'zs_qj': 'zs_qj_dd', 'zs_wzgx': 'zs_wzgx_zggdd', 'zs_optimize': '0', 'idx_macd_fast': '12', 'idx_macd_slow': '26', 'idx_macd_signal': '9', 'cl_mmd_cal_qs_1mmd': '1', 'cl_mmd_cal_not_qs_3mmd_1mmd': '1', 'cl_mmd_cal_qs_3mmd_1mmd': '1', 'cl_mmd_cal_qs_not_lh_2mmd': '1', 'cl_mmd_cal_qs_bc_2mmd': '1', 'cl_mmd_cal_3mmd_not_lh_bc_2mmd': '1', 'cl_mmd_cal_1mmd_not_lh_2mmd': '1', 'cl_mmd_cal_3mmd_xgxd_not_bc_2mmd': '1', 'cl_mmd_cal_not_in_zs_3mmd': '1', 'cl_mmd_cal_not_in_zs_gt_9_3mmd': '1', 'enable_kchart_low_to_high': '0', 'chart_show_infos': '0', 'chart_show_fx': '0', 'chart_show_bi': '1', 'chart_show_xd': '1', 'chart_show_zsd': '1', 'chart_show_qsd': '0', 'chart_show_bi_zs': '1', 'chart_show_xd_zs': '1', 'chart_show_zsd_zs': '0', 'chart_show_qsd_zs': '0', 'chart_show_bi_mmd': '1', 'chart_show_xd_mmd': '1', 'chart_show_zsd_mmd': '1', 'chart_show_qsd_mmd': '1', 'chart_show_bi_bc': '1', 'chart_show_xd_bc': '1', 'chart_show_zsd_bc': '1', 'chart_show_qsd_bc': '1', 'chart_show_ma': '0', 'chart_show_boll': '0', 'chart_show_futu': 'macd', 'chart_show_atr_stop_loss': False, 'chart_show_ld': 'xd', 'chart_kline_nums': 500, 'chart_idx_ma_period': '5,34', 'chart_idx_vol_ma_period': '5,60', 'chart_idx_boll_period': 20, 'chart_idx_rsi_period': 14, 'chart_idx_atr_period': 14, 'chart_idx_atr_multiplier': 1.5, 'chart_idx_cci_period': 14, 'chart_idx_kdj_period': '9,3,3', 'chart_qstd': 'xd,0'}\n",
      "交易总手续费 : 23641.922740868384\n"
     ]
    },
    {
     "name": "stdout",
     "output_type": "stream",
     "text": [
      "首个交易日：2024-11-26 00:00:00+08:00 最后交易日：2024-11-26 00:00:00+08:00 总交易日：1\n",
      "起始资金：1,000,000.00 结束资金：1,011,648.53 总手续费：23,641.92\n",
      "基准收益率：38.59%  基准年化收益：14,084.32%%\n",
      "总收益率：1.16% 年化收益率：425.17%\n",
      "最大回撤：0.00 百分比最大回撤：0.00% 最长回撤天数：0\n",
      "日均收益率：1.16% 收益标准差：nan% Sharpe Ratio: nan 收益回撤比：-inf \n",
      "+--------------+------+------+--------+----------+----------+-----------+----------+----------+----------+--------+\n",
      "|    买卖点    | 成功 | 失败 |  胜率  |   盈利   |   亏损   |   净利润  | 回吐比例 | 平均盈利 | 平均亏损 | 盈亏比 |\n",
      "+--------------+------+------+--------+----------+----------+-----------+----------+----------+----------+--------+\n",
      "|   一类买点   |  2   |  0   | 100.0% | 35383.55 |    0     |  35383.55 |   0.0    | 17691.77 |    0     |   0    |\n",
      "|   二类买点   |  0   |  0   |   0%   |    0     |    0     |     0     |    0     |    0     |    0     |   0    |\n",
      "|  类二类买点  |  0   |  0   |   0%   |    0     |    0     |     0     |    0     |    0     |    0     |   0    |\n",
      "|   三类买点   |  0   |  0   |   0%   |    0     |    0     |     0     |    0     |    0     |    0     |   0    |\n",
      "|  类三类买点  |  0   |  0   |   0%   |    0     |    0     |     0     |    0     |    0     |    0     |   0    |\n",
      "|  下跌笔背驰  |  0   |  0   |   0%   |    0     |    0     |     0     |    0     |    0     |    0     |   0    |\n",
      "| 下跌线段背驰 |  0   |  0   |   0%   |    0     |    0     |     0     |    0     |    0     |    0     |   0    |\n",
      "| 下跌盘整背驰 |  0   |  0   |   0%   |    0     |    0     |     0     |    0     |    0     |    0     |   0    |\n",
      "| 下跌趋势背驰 |  0   |  0   |   0%   |    0     |    0     |     0     |    0     |    0     |    0     |   0    |\n",
      "|   一类卖点   |  0   |  10  |  0.0%  |    0     | 23760.68 | -23760.68 |    0     |    0     | 2376.07  |   0    |\n",
      "|   二类卖点   |  0   |  0   |   0%   |    0     |    0     |     0     |    0     |    0     |    0     |   0    |\n",
      "|  类二类卖点  |  0   |  0   |   0%   |    0     |    0     |     0     |    0     |    0     |    0     |   0    |\n",
      "|   三类卖点   |  0   |  0   |   0%   |    0     |    0     |     0     |    0     |    0     |    0     |   0    |\n",
      "|  类三类卖点  |  0   |  0   |   0%   |    0     |    0     |     0     |    0     |    0     |    0     |   0    |\n",
      "|  上涨笔背驰  |  0   |  0   |   0%   |    0     |    0     |     0     |    0     |    0     |    0     |   0    |\n",
      "| 上涨线段背驰 |  0   |  0   |   0%   |    0     |    0     |     0     |    0     |    0     |    0     |   0    |\n",
      "| 上涨盘整背驰 |  0   |  0   |   0%   |    0     |    0     |     0     |    0     |    0     |    0     |   0    |\n",
      "| 上涨趋势背驰 |  0   |  0   |   0%   |    0     |    0     |     0     |    0     |    0     |    0     |   0    |\n",
      "|     汇总     |  2   |  10  | 16.67% | 35383.55 | 23760.68 |  11622.87 |  67.15   | 17691.77 | 2376.07  | 7.4458 |\n",
      "+--------------+------+------+--------+----------+----------+-----------+----------+----------+----------+--------+\n"
     ]
    }
   ],
   "source": [
    "# 输出回测结果\n",
    "BT.info()\n",
    "BT.result()"
   ]
  },
  {
   "cell_type": "code",
   "execution_count": null,
   "metadata": {
    "pycharm": {
     "name": "#%%\n"
    },
    "tags": []
   },
   "outputs": [],
   "source": [
    "# 回测数据展示\n",
    "BT.backtest_charts()"
   ]
  },
  {
   "cell_type": "code",
   "execution_count": null,
   "metadata": {
    "pycharm": {
     "name": "#%%\n"
    },
    "tags": []
   },
   "outputs": [],
   "source": [
    "# 显示历史持仓\n",
    "#设置显示全部行，不省略\n",
    "pd.set_option('display.max_rows',None)\n",
    "#设置显示全部列，不省略\n",
    "pd.set_option('display.max_columns',None)\n",
    "\n",
    "# 显示历史持仓\n",
    "pos_df = BT.positions()\n",
    "pos_df"
   ]
  },
  {
   "cell_type": "code",
   "execution_count": null,
   "metadata": {
    "pycharm": {
     "name": "#%%\n"
    },
    "tags": []
   },
   "outputs": [],
   "source": [
    "# 展示图表\n",
    "BT.show_charts(BT.codes[0], BT.frequencys[0])"
   ]
  },
  {
   "cell_type": "code",
   "execution_count": null,
   "metadata": {
    "pycharm": {
     "name": "#%%\n"
    }
   },
   "outputs": [],
   "source": []
  }
 ],
 "metadata": {
  "kernelspec": {
   "display_name": "Python 3 (ipykernel)",
   "language": "python",
   "name": "python3"
  },
  "language_info": {
   "codemirror_mode": {
    "name": "ipython",
    "version": 3
   },
   "file_extension": ".py",
   "mimetype": "text/x-python",
   "name": "python",
   "nbconvert_exporter": "python",
   "pygments_lexer": "ipython3",
   "version": "3.11.10"
  },
  "toc-autonumbering": true
 },
 "nbformat": 4,
 "nbformat_minor": 4
}
