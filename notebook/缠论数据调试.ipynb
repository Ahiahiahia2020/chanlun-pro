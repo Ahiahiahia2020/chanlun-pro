{
 "cells": [
  {
   "cell_type": "code",
   "execution_count": 29,
   "metadata": {},
   "outputs": [
    {
     "name": "stdout",
     "output_type": "stream",
     "text": [
      "index: 234 type: down FX: (2024-11-14 10:00:00+08:00 - 2024-11-18 10:00:00+08:00) high: 18.45 low: 16.89 done: True\n",
      "index: 236 type: down FX: (2024-11-21 10:30:00+08:00 - 2024-11-27 10:30:00+08:00) high: 17.89 low: 16.15 done: True\n",
      "1.5599999999999987 1.740000000000002 16 32\n",
      "True\n",
      "段内笔背驰\n"
     ]
    }
   ],
   "source": [
    "import itertools\n",
    "import talib\n",
    "from chanlun.cl_utils import *\n",
    "from chanlun.cl_interface import Config\n",
    "\n",
    "\"\"\"\n",
    "根据缠论数据，选择自己所需要的形态方法集合\n",
    "\"\"\"\n",
    "\n",
    "direction_types = {\"long\": [\"down\"], \"short\": [\"up\"]}\n",
    "mmd_types = {\n",
    "    \"long\": [\"1buy\", \"2buy\", \"3buy\", \"l2buy\", \"l3buy\"],\n",
    "    \"short\": [\"1sell\", \"2sell\", \"3sell\", \"l2sell\", \"l3sell\"],\n",
    "}\n",
    "\n",
    "\n",
    "def get_opt_types(opt_type: list = []):\n",
    "    if len(opt_type) == 0:\n",
    "        opt_type = [\"long\"]\n",
    "    opt_direction = list(\n",
    "        itertools.chain.from_iterable([direction_types[x] for x in opt_type])\n",
    "    )\n",
    "    opt_mmd = list(itertools.chain.from_iterable([mmd_types[x] for x in opt_type]))\n",
    "    return opt_direction, opt_mmd\n",
    "\n",
    "def xingchenglidu(line: LINE) -> list:\n",
    "    \"\"\"\n",
    "    计算线的行程力度（取绝对值）\n",
    "\n",
    "    行程力度 = dy / dx\n",
    "        dy = 终点与起点的绝对值差异\n",
    "        dx = 线段之间的k线数量\n",
    "    \"\"\"\n",
    "    if line.end.val == line.start.val:\n",
    "        return 0\n",
    "\n",
    "    dy = abs(line.end.val - line.start.val)\n",
    "    dx = line.end.k.k_index - line.start.k.k_index\n",
    "    return [dy, dx, dy/dx]\n",
    "\n",
    "def interact():\n",
    "    \"\"\"执行后进入repl模式\"\"\"\n",
    "    import code\n",
    "    code.InteractiveConsole(locals=globals()).interact()\n",
    "    \n",
    "if __name__ == \"__main__\":\n",
    "    from chanlun.exchange.exchange_tdx import ExchangeTDX\n",
    "    from chanlun.cl_utils import query_cl_chart_config, web_batch_get_cl_datas\n",
    "    from chanlun.exchange.exchange import *\n",
    "\n",
    "    market = \"a\"\n",
    "    code = \"SH.000300\"\n",
    "    # code = \"SH.601991\"\n",
    "    # code = \"SZ.002491\"\n",
    "    # code = \"SZ.002063\"\n",
    "    # code = \"SZ.300360\"\n",
    "    freq = \"30m\"\n",
    "\n",
    "    ex = ExchangeTDX()\n",
    "    cl_config = query_cl_chart_config(market, code)\n",
    "\n",
    "    klines = ex.klines(code, freq)\n",
    "    cds = web_batch_get_cl_datas(market, code, {freq: klines}, cl_config)\n",
    "\n",
    "    cd = cds[0]\n",
    "    \n",
    "    xds = cd.get_xds()\n",
    "    \n",
    "    xd = xds[-1]\n",
    "    \n",
    "    bi_start = xd.start_line\n",
    "    print(bi_start)\n",
    "    dy_bi_start = abs(bi_start.end.val - bi_start.start.val)\n",
    "    dx_bi_start = bi_start.end.k.k_index - bi_start.start.k.k_index\n",
    "    xc_bi_start = dy_bi_start / dx_bi_start\n",
    "\n",
    "    bi_end = xd.end_line\n",
    "    print(bi_end)\n",
    "    dy_bi_end = abs(bi_end.end.val - bi_end.start.val)\n",
    "    dx_bi_end = bi_end.end.k.k_index - bi_end.start.k.k_index\n",
    "    xc_bi_end = dy_bi_end / dx_bi_end\n",
    "\n",
    "    print(dy_bi_start,dy_bi_end,dx_bi_start,dx_bi_end)\n",
    "    print(xc_bi_end < xc_bi_start)\n",
    "\n",
    "    \n",
    "    if (dy_bi_end > dy_bi_start) and (xc_bi_end < xc_bi_start):\n",
    "        print(\"段内笔背驰\")\n",
    "    \n",
    "\n",
    "\n"
   ]
  },
  {
   "cell_type": "code",
   "execution_count": 30,
   "metadata": {},
   "outputs": [
    {
     "name": "stdout",
     "output_type": "stream",
     "text": [
      "[]\n"
     ]
    }
   ],
   "source": [
    "print(xd.mmds)"
   ]
  },
  {
   "cell_type": "code",
   "execution_count": 36,
   "metadata": {},
   "outputs": [
    {
     "data": {
      "text/plain": [
       "chanlun.cl_interface.BI"
      ]
     },
     "execution_count": 36,
     "metadata": {},
     "output_type": "execute_result"
    }
   ],
   "source": [
    "type(xd.start_line)"
   ]
  },
  {
   "cell_type": "code",
   "execution_count": 35,
   "metadata": {},
   "outputs": [],
   "source": [
    "zsds = cd.get_zsds()"
   ]
  },
  {
   "cell_type": "code",
   "execution_count": 34,
   "metadata": {},
   "outputs": [
    {
     "data": {
      "text/plain": [
       "False"
      ]
     },
     "execution_count": 34,
     "metadata": {},
     "output_type": "execute_result"
    }
   ],
   "source": [
    "hasattr(zsds[0].start_line.start_line,'start_line')"
   ]
  },
  {
   "cell_type": "code",
   "execution_count": 33,
   "metadata": {},
   "outputs": [
    {
     "ename": "AttributeError",
     "evalue": "'BI' object has no attribute 'start_line'",
     "output_type": "error",
     "traceback": [
      "\u001b[1;31m---------------------------------------------------------------------------\u001b[0m",
      "\u001b[1;31mAttributeError\u001b[0m                            Traceback (most recent call last)",
      "Cell \u001b[1;32mIn[33], line 1\u001b[0m\n\u001b[1;32m----> 1\u001b[0m \u001b[38;5;28mstr\u001b[39m(\u001b[38;5;28mtype\u001b[39m(\u001b[43mzsds\u001b[49m\u001b[43m[\u001b[49m\u001b[38;5;241;43m0\u001b[39;49m\u001b[43m]\u001b[49m\u001b[38;5;241;43m.\u001b[39;49m\u001b[43mstart_line\u001b[49m\u001b[38;5;241;43m.\u001b[39;49m\u001b[43mstart_line\u001b[49m\u001b[38;5;241;43m.\u001b[39;49m\u001b[43mstart_line\u001b[49m))\n",
      "\u001b[1;31mAttributeError\u001b[0m: 'BI' object has no attribute 'start_line'"
     ]
    }
   ],
   "source": [
    "str(type(zsds[0].start_line.start_line.start_line))"
   ]
  },
  {
   "cell_type": "code",
   "execution_count": null,
   "metadata": {},
   "outputs": [],
   "source": [
    "old_group = \"测试选股-20241125-2216\"\n",
    "codes = zx.zx_stocks(zx_group)['code']"
   ]
  },
  {
   "cell_type": "code",
   "execution_count": null,
   "metadata": {},
   "outputs": [],
   "source": [
    "str(cd.get_src_klines()[-2])"
   ]
  },
  {
   "cell_type": "code",
   "execution_count": null,
   "metadata": {},
   "outputs": [],
   "source": [
    "str(cd.get_src_klines()[-1])"
   ]
  },
  {
   "cell_type": "code",
   "execution_count": 32,
   "metadata": {},
   "outputs": [],
   "source": [
    "zsds = cd.get_zsds()\n",
    "zsd = zsds[-1]"
   ]
  },
  {
   "cell_type": "code",
   "execution_count": null,
   "metadata": {},
   "outputs": [],
   "source": [
    "len(cd.get_idx()['macd']['dea'])\n"
   ]
  },
  {
   "cell_type": "code",
   "execution_count": null,
   "metadata": {},
   "outputs": [],
   "source": [
    "macds_xd = cd.get_idx()['macd']['hist'][xd.start_line.start.k.k_index:xd.end_line.end.k.k_index + 1]"
   ]
  },
  {
   "cell_type": "code",
   "execution_count": null,
   "metadata": {},
   "outputs": [],
   "source": [
    "xd.end_line.end.k.date\n",
    "reference_date = pd.Timestamp('2024-07-01').tz_localize('UTC')\n",
    "if reference_date <= xd.end_line.end.k.date:\n",
    "    print(True)"
   ]
  },
  {
   "cell_type": "code",
   "execution_count": null,
   "metadata": {},
   "outputs": [],
   "source": [
    "macd_xd = cd.get_idx()['macd']['dea'][bi_start.start.k.k_index:bi_start.end.k.k_index + 1]"
   ]
  },
  {
   "cell_type": "code",
   "execution_count": null,
   "metadata": {},
   "outputs": [],
   "source": [
    "macds_xd = cd.get_idx()['macd']['hist'][xd.start_line.start.k.k_index:xd.end_line.end.k.k_index + 1]"
   ]
  },
  {
   "cell_type": "code",
   "execution_count": null,
   "metadata": {},
   "outputs": [],
   "source": [
    "macds_xd"
   ]
  },
  {
   "cell_type": "code",
   "execution_count": null,
   "metadata": {},
   "outputs": [],
   "source": [
    "macd_xd[-3] <= min(macd_xd[:])"
   ]
  },
  {
   "cell_type": "code",
   "execution_count": null,
   "metadata": {},
   "outputs": [],
   "source": [
    "bizss = cd.get_bi_zss()"
   ]
  },
  {
   "cell_type": "code",
   "execution_count": null,
   "metadata": {},
   "outputs": [],
   "source": [
    "(bizss[-1].zs_mmds())"
   ]
  },
  {
   "cell_type": "code",
   "execution_count": null,
   "metadata": {},
   "outputs": [],
   "source": [
    "xd  = xds[-2]"
   ]
  },
  {
   "cell_type": "code",
   "execution_count": null,
   "metadata": {},
   "outputs": [],
   "source": [
    "str(xd)"
   ]
  },
  {
   "cell_type": "code",
   "execution_count": null,
   "metadata": {},
   "outputs": [],
   "source": [
    "bis = cd.get_bis()\n",
    "for bi in bis:\n",
    "    if bi.index == xd.start_line.index + 3:\n",
    "        print(bi)\n",
    "        print(bi.line_mmds())"
   ]
  },
  {
   "cell_type": "code",
   "execution_count": null,
   "metadata": {},
   "outputs": [],
   "source": [
    "bis = cd.get_bis()\n",
    "bis1 = bis[xd.start_line.index: xd.end_line.index + 1] \n",
    "for bi in bis1:\n",
    "    print(bi)\n",
    "    print(bi.line_mmds())"
   ]
  },
  {
   "cell_type": "code",
   "execution_count": null,
   "metadata": {},
   "outputs": [],
   "source": [
    "type((bizss[-1].zs_mmds()[-2]))"
   ]
  },
  {
   "cell_type": "code",
   "execution_count": null,
   "metadata": {},
   "outputs": [],
   "source": [
    "print(bizss[-2])"
   ]
  },
  {
   "cell_type": "code",
   "execution_count": null,
   "metadata": {},
   "outputs": [],
   "source": [
    "bis[xd.start_line.index + 3].mmd_exists([\"3sell\"])\n"
   ]
  },
  {
   "cell_type": "code",
   "execution_count": null,
   "metadata": {},
   "outputs": [],
   "source": [
    "bis[xd.start_line.index + 3].get_mmds()[0].name"
   ]
  },
  {
   "cell_type": "code",
   "execution_count": null,
   "metadata": {},
   "outputs": [],
   "source": [
    "bi_start.end.k.date"
   ]
  },
  {
   "cell_type": "code",
   "execution_count": null,
   "metadata": {},
   "outputs": [],
   "source": [
    "len(cd.get_klines())"
   ]
  },
  {
   "cell_type": "code",
   "execution_count": null,
   "metadata": {},
   "outputs": [],
   "source": [
    "xingchenglidu(zsd)"
   ]
  },
  {
   "cell_type": "code",
   "execution_count": null,
   "metadata": {},
   "outputs": [],
   "source": [
    "xingchenglidu(bi_start)"
   ]
  },
  {
   "cell_type": "code",
   "execution_count": null,
   "metadata": {},
   "outputs": [],
   "source": [
    "xingchenglidu(bi_end)"
   ]
  },
  {
   "cell_type": "code",
   "execution_count": null,
   "metadata": {},
   "outputs": [],
   "source": [
    "def xingchenglidu(line: LINE) -> list:\n",
    "    \"\"\"\n",
    "    计算线的行程力度（取绝对值）\n",
    "\n",
    "    行程力度 = dy / dx\n",
    "        dy = 终点与起点的绝对值差异\n",
    "        dx = 线段之间的k线数量\n",
    "    \"\"\"\n",
    "    if line.end.val == line.start.val:\n",
    "        return 0\n",
    "\n",
    "    dy = abs(line.end.val - line.start.val)\n",
    "    dx = line.end.k.k_index - line.start.k.k_index\n",
    "    return [dy, dx, dy/dx]\n",
    "\n",
    "def compare_xingcheng_ld(one_line: LINE, two_line: LINE):\n",
    "    \"\"\"\n",
    "    比较两个线的力度，后者小于前者，返回 True\n",
    "    :param one_line:\n",
    "    :param two_line:\n",
    "    :return:\n",
    "    \"\"\"\n",
    "    dy1, dx1, ld1 = xingchenglidu(one_line)\n",
    "    dy2, dx2, ld2 = xingchenglidu(two_line)\n",
    "    if ( (dy2 > dy1) and  (ld2 < ld1)):\n",
    "        return True\n",
    "    else:\n",
    "        return False"
   ]
  },
  {
   "cell_type": "code",
   "execution_count": null,
   "metadata": {},
   "outputs": [],
   "source": [
    "compare_xingcheng_ld(zsd.start_line,zsd.end_line)"
   ]
  },
  {
   "cell_type": "code",
   "execution_count": null,
   "metadata": {},
   "outputs": [],
   "source": [
    "zsd.start_line.end.k.date"
   ]
  },
  {
   "cell_type": "code",
   "execution_count": null,
   "metadata": {},
   "outputs": [],
   "source": [
    "bi_start.jiaodu()"
   ]
  },
  {
   "cell_type": "code",
   "execution_count": null,
   "metadata": {},
   "outputs": [],
   "source": [
    "xd.index"
   ]
  },
  {
   "cell_type": "code",
   "execution_count": null,
   "metadata": {},
   "outputs": [],
   "source": [
    "xd.jiaodu()"
   ]
  },
  {
   "cell_type": "code",
   "execution_count": null,
   "metadata": {},
   "outputs": [],
   "source": [
    "xd.start_line.high\n",
    "# xd.start_line.low"
   ]
  },
  {
   "cell_type": "code",
   "execution_count": null,
   "metadata": {},
   "outputs": [],
   "source": [
    "xd.end_line\n",
    "xd.end_line.high\n",
    "xd.end_line.low"
   ]
  },
  {
   "cell_type": "code",
   "execution_count": null,
   "metadata": {},
   "outputs": [],
   "source": [
    "fx_start = xd.start\n",
    "fx_end = xd.end"
   ]
  },
  {
   "cell_type": "code",
   "execution_count": null,
   "metadata": {},
   "outputs": [],
   "source": [
    "fx_start.klines"
   ]
  },
  {
   "cell_type": "code",
   "execution_count": null,
   "metadata": {},
   "outputs": [],
   "source": [
    "k_start = fx_start.k\n",
    "k_end = fx_end.k"
   ]
  },
  {
   "cell_type": "code",
   "execution_count": null,
   "metadata": {},
   "outputs": [],
   "source": [
    "k_start.k_index"
   ]
  },
  {
   "cell_type": "code",
   "execution_count": null,
   "metadata": {},
   "outputs": [],
   "source": [
    "k_end.k_index"
   ]
  },
  {
   "cell_type": "code",
   "execution_count": null,
   "metadata": {},
   "outputs": [],
   "source": [
    "diff = k_end.k_index - k_start.k_index\n"
   ]
  },
  {
   "cell_type": "code",
   "execution_count": null,
   "metadata": {},
   "outputs": [],
   "source": [
    "diff"
   ]
  }
 ],
 "metadata": {
  "kernelspec": {
   "display_name": "chanlun",
   "language": "python",
   "name": "python3"
  },
  "language_info": {
   "codemirror_mode": {
    "name": "ipython",
    "version": 3
   },
   "file_extension": ".py",
   "mimetype": "text/x-python",
   "name": "python",
   "nbconvert_exporter": "python",
   "pygments_lexer": "ipython3",
   "version": "3.11.10"
  }
 },
 "nbformat": 4,
 "nbformat_minor": 2
}
