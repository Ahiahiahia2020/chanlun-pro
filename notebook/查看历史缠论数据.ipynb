{
 "cells": [
  {
   "cell_type": "markdown",
   "id": "d7100716-2c0a-478e-a4fc-b2fe4cd2c3c0",
   "metadata": {
    "execution": {
     "iopub.execute_input": "2022-05-09T14:45:05.396822Z",
     "iopub.status.busy": "2022-05-09T14:45:05.395822Z",
     "iopub.status.idle": "2022-05-09T14:45:05.415254Z",
     "shell.execute_reply": "2022-05-09T14:45:05.414256Z",
     "shell.execute_reply.started": "2022-05-09T14:45:05.395822Z"
    },
    "pycharm": {
     "name": "#%% md\n"
    }
   },
   "source": [
    "## 数据回放测试，用于查找问题"
   ]
  },
  {
   "cell_type": "code",
   "execution_count": null,
   "id": "c94d6124-6426-4e54-a1e9-c010115d5452",
   "metadata": {
    "pycharm": {
     "name": "#%%\n"
    },
    "tags": []
   },
   "outputs": [],
   "source": [
    "from chanlun.backtesting.backtest_klines import BackTestKlines\n",
    "from chanlun import kcharts\n",
    "from chanlun.cl_utils import query_cl_chart_config\n",
    "from chanlun.exchange.exchange import *\n",
    "import pandas as pd\n",
    "from datetime import datetime, timedelta\n",
    "import matplotlib.pyplot as plt\n",
    "import tkinter as tk\n",
    "from tkinter import ttk, messagebox\n",
    "from matplotlib.backends.backend_tkagg import FigureCanvasTkAgg\n",
    "from chanlun.exchange.exchange_db import ExchangeDB\n",
    "import time\n",
    "from chanlun import cl\n",
    "import os\n",
    "import webbrowser"
   ]
  },
  {
   "cell_type": "code",
   "execution_count": null,
   "id": "139cf41d",
   "metadata": {},
   "outputs": [],
   "source": [
    "market = 'a'\n",
    "code = 'SH.600285'\n",
    "start_date = '2021-02-02 15:00:00'\n",
    "end_date = '2023-05-11 15:00:00'\n",
    "frequencys = ['d']\n",
    "ex = ExchangeDB(market) # 读取数据库中的k线数据\n",
    "cl_config = query_cl_chart_config(market, code) # 读取缠论配置\n",
    "# cl_config[\"to_file\"] = f\"E:\\stock_history_charts\\{code}_{frequencys[0]}_{start_date[:10]}_{end_date[:10]}.html\""
   ]
  },
  {
   "cell_type": "code",
   "execution_count": null,
   "id": "1adcdb38",
   "metadata": {},
   "outputs": [],
   "source": [
    "print(cl_config)"
   ]
  },
  {
   "cell_type": "code",
   "execution_count": null,
   "id": "920c7e5c-96bd-4aab-83a6-3e1a4be3a387",
   "metadata": {
    "pycharm": {
     "name": "#%%\n"
    },
    "tags": []
   },
   "outputs": [],
   "source": [
    "# 回放的数据配置\n",
    "# market = 'currency'\n",
    "# code = 'ETH/USDT'\n",
    "# start_date = '2023-02-02 14:30:00'\n",
    "# end_date = '2023-02-02 15:00:00'\n",
    "# frequencys = ['5m']\n",
    "\n",
    "\n",
    "\n",
    "cl_config = query_cl_chart_config(market, code)\n",
    "\n",
    "bk = BackTestKlines(market, start_date, end_date, frequencys, cl_config)\n",
    "bk.init(code, frequencys[0])"
   ]
  },
  {
   "cell_type": "code",
   "execution_count": null,
   "id": "c95d98cb-bdb1-4ff4-a65e-12dbaf5b2985",
   "metadata": {
    "pycharm": {
     "name": "#%%\n"
    },
    "tags": []
   },
   "outputs": [],
   "source": [
    "# 依次执行此单元格，检查缠论计算结果\n",
    "while (bk.next()):\n",
    "    cd = bk.get_cl_data(code, frequencys[0])\n",
    "    # kcharts.render_charts(code, cd, config=cl_config)"
   ]
  },
  {
   "cell_type": "code",
   "execution_count": null,
   "id": "51be9b43-1525-4e38-8ee3-014ad990ff25",
   "metadata": {
    "pycharm": {
     "name": "#%%\n"
    },
    "tags": []
   },
   "outputs": [],
   "source": [
    "cd2 = bk.get_cl_data(code, frequencys[0])\n",
    "kcharts.render_charts(code, cd2, config=cl_config)"
   ]
  },
  {
   "cell_type": "code",
   "execution_count": null,
   "id": "be6d10db",
   "metadata": {},
   "outputs": [],
   "source": [
    "klines = cd2.get_src_klines()\n",
    "k1 = klines[-1]\n",
    "k2 = klines[-2]\n",
    "print(k1.date,k2.date,(k2.date-k1.date).days)\n",
    "# datetime.(k2.date,k1.date)"
   ]
  },
  {
   "cell_type": "code",
   "execution_count": null,
   "id": "0985e297-a61e-4255-bb3a-8c85564c0ed4",
   "metadata": {
    "pycharm": {
     "name": "#%%\n"
    },
    "tags": []
   },
   "outputs": [],
   "source": [
    "zss = cd.get_xd_zss()\n",
    "zs = zss[-1]\n",
    "print(zs)"
   ]
  },
  {
   "cell_type": "code",
   "execution_count": null,
   "id": "638f9e71",
   "metadata": {},
   "outputs": [],
   "source": [
    "last_zs = cd.get_last_xd_zs()\n",
    "print(last_zs)\n",
    "for line in last_zs.lines:\n",
    "    print(line)"
   ]
  },
  {
   "cell_type": "code",
   "execution_count": null,
   "id": "c0a25c74",
   "metadata": {},
   "outputs": [],
   "source": [
    "print(zs.type)"
   ]
  },
  {
   "cell_type": "code",
   "execution_count": null,
   "id": "2e3f71d1",
   "metadata": {},
   "outputs": [],
   "source": [
    "print(cd.get_last_xd_zs())"
   ]
  },
  {
   "cell_type": "code",
   "execution_count": null,
   "id": "53f9bc49",
   "metadata": {},
   "outputs": [],
   "source": [
    "for line in zs.lines:\n",
    "    print(line)"
   ]
  },
  {
   "cell_type": "code",
   "execution_count": null,
   "id": "0632f8b4-0bfc-4ce9-8017-9cd402728292",
   "metadata": {
    "pycharm": {
     "name": "#%%\n"
    },
    "tags": []
   },
   "outputs": [],
   "source": [
    "bk.now_date"
   ]
  },
  {
   "cell_type": "code",
   "execution_count": null,
   "id": "c1a6ede5-c34b-411a-b7f7-48252cb6a496",
   "metadata": {
    "pycharm": {
     "name": "#%%\n"
    },
    "tags": []
   },
   "outputs": [],
   "source": [
    "print(cd.get_xds()[-1])"
   ]
  }
 ],
 "metadata": {
  "kernelspec": {
   "display_name": "Python 3 (ipykernel)",
   "language": "python",
   "name": "python3"
  },
  "language_info": {
   "codemirror_mode": {
    "name": "ipython",
    "version": 3
   },
   "file_extension": ".py",
   "mimetype": "text/x-python",
   "name": "python",
   "nbconvert_exporter": "python",
   "pygments_lexer": "ipython3",
   "version": "3.11.10"
  }
 },
 "nbformat": 4,
 "nbformat_minor": 5
}
