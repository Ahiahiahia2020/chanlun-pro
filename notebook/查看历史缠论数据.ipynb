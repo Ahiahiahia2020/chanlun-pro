{
 "cells": [
  {
   "cell_type": "markdown",
   "id": "d7100716-2c0a-478e-a4fc-b2fe4cd2c3c0",
   "metadata": {
    "execution": {
     "iopub.execute_input": "2022-05-09T14:45:05.396822Z",
     "iopub.status.busy": "2022-05-09T14:45:05.395822Z",
     "iopub.status.idle": "2022-05-09T14:45:05.415254Z",
     "shell.execute_reply": "2022-05-09T14:45:05.414256Z",
     "shell.execute_reply.started": "2022-05-09T14:45:05.395822Z"
    },
    "pycharm": {
     "name": "#%% md\n"
    }
   },
   "source": [
    "## 数据回放测试，用于查找问题"
   ]
  },
  {
   "cell_type": "code",
   "execution_count": 1,
   "id": "c94d6124-6426-4e54-a1e9-c010115d5452",
   "metadata": {
    "pycharm": {
     "name": "#%%\n"
    },
    "tags": []
   },
   "outputs": [
    {
     "name": "stdout",
     "output_type": "stream",
     "text": [
      "Chanlun-Pro 缠论数据计算\n",
      "https://gitee.com/wang-student/chanlun-pro\n",
      "运行环境: Python: 3.11\n",
      "授权信息: A_hia_hia_hia-VIP \n",
      " *  *  *  *  *  *  *  *  *  *  *  *  *  *  *  *  *  *  *  * \n"
     ]
    }
   ],
   "source": [
    "from chanlun.backtesting.backtest_klines import BackTestKlines\n",
    "from chanlun import kcharts\n",
    "from chanlun.cl_utils import query_cl_chart_config\n",
    "from chanlun.exchange.exchange import *\n",
    "import pandas as pd\n",
    "from datetime import datetime, timedelta\n",
    "import matplotlib.pyplot as plt\n",
    "import tkinter as tk\n",
    "from tkinter import ttk, messagebox\n",
    "from matplotlib.backends.backend_tkagg import FigureCanvasTkAgg\n",
    "from chanlun.exchange.exchange_db import ExchangeDB\n",
    "import time\n",
    "from chanlun import cl"
   ]
  },
  {
   "cell_type": "code",
   "execution_count": 2,
   "id": "139cf41d",
   "metadata": {},
   "outputs": [],
   "source": [
    "market = 'a'\n",
    "code = 'SH.600285'\n",
    "start_date = '2021-02-02 15:00:00'\n",
    "end_date = '2023-05-11 15:00:00'\n",
    "frequencys = ['d']\n",
    "ex = ExchangeDB(market) # 读取数据库中的k线数据\n",
    "cl_config = query_cl_chart_config(market, code) # 读取缠论配置"
   ]
  },
  {
   "cell_type": "code",
   "execution_count": 9,
   "id": "98fcdf7f",
   "metadata": {},
   "outputs": [],
   "source": [
    "class StockHistoryViewer:\n",
    "    def __init__(self):\n",
    "        \"\"\"初始化查看器\"\"\"\n",
    "        self.supported_periods = ['1m', '5m', '30m', '60m', 'd', '2d', 'w']\n",
    "        self.setup_gui()\n",
    "        \n",
    "    def setup_gui(self):\n",
    "        \"\"\"设置图形界面\"\"\"\n",
    "        self.root = tk.Tk()\n",
    "        self.root.title(\"股票历史K线查看器\")\n",
    "        self.root.geometry(\"1200x800\")\n",
    "        \n",
    "        # 创建输入框架\n",
    "        input_frame = ttk.Frame(self.root, padding=\"10\")\n",
    "        input_frame.pack(fill=tk.X)\n",
    "        \n",
    "        # 股票代码输入\n",
    "        ttk.Label(input_frame, text=\"股票代码:\").pack(side=tk.LEFT, padx=5)\n",
    "        self.code_var = tk.StringVar()\n",
    "        self.code_entry = ttk.Entry(input_frame, textvariable=self.code_var)\n",
    "        self.code_entry.pack(side=tk.LEFT, padx=5)\n",
    "        ttk.Label(input_frame, text=\"(格式: SH.600000)\").pack(side=tk.LEFT)\n",
    "        \n",
    "        # 周期选择\n",
    "        ttk.Label(input_frame, text=\"K线周期:\").pack(side=tk.LEFT, padx=5)\n",
    "        self.period_var = tk.StringVar()\n",
    "        period_combo = ttk.Combobox(input_frame, textvariable=self.period_var, \n",
    "                                  values=self.supported_periods, width=5)\n",
    "        period_combo.pack(side=tk.LEFT, padx=5)\n",
    "        period_combo.set(self.supported_periods[0])\n",
    "        \n",
    "        # 查询按钮\n",
    "        ttk.Button(input_frame, text=\"查看K线\", \n",
    "                  command=self.on_view_click).pack(side=tk.LEFT, padx=20)\n",
    "        \n",
    "        # 创建图表区域\n",
    "        self.figure_frame = ttk.Frame(self.root)\n",
    "        self.figure_frame.pack(fill=tk.BOTH, expand=True, pady=10)\n",
    "        \n",
    "    def on_view_click(self):\n",
    "        \"\"\"查看按钮点击事件处理\"\"\"\n",
    "        code = self.code_var.get().strip()\n",
    "        period = self.period_var.get()\n",
    "        \n",
    "        if self.validate_inputs(code, period):\n",
    "            self.view_history(code, period)\n",
    "        \n",
    "    def validate_inputs(self, code: str, period: str) -> bool:\n",
    "        \"\"\"验证输入参数的有效性\"\"\"\n",
    "        # 验证股票代码格式\n",
    "        if not code.startswith(('SH.', 'SZ.')):\n",
    "            messagebox.showerror(\"错误\", \"股票代码必须以'SH.'或'SZ.'开头\")\n",
    "            return False\n",
    "            \n",
    "        # 验证周期格式\n",
    "        if period not in self.supported_periods:\n",
    "            messagebox.showerror(\"错误\", \n",
    "                f\"不支持的周期类型。支持的周期包括: {', '.join(self.supported_periods)}\")\n",
    "            return False\n",
    "            \n",
    "        return True\n",
    "        \n",
    "    def get_history_data(self, code: str, period: str, start_date=None, end_date=None):\n",
    "        \"\"\"从数据库获取历史数据\n",
    "        这里先用占位符，等待API提供后替换\n",
    "        \"\"\"\n",
    "        # TODO: 实现实际的数据获取逻辑\n",
    "        klines = ex.klines(code, frequency=period, start_date=start_date, end_date=end_date)\n",
    "        klines = klines[:]\n",
    "        print(period, '获取K线数据量：', len(klines))\n",
    "        _s = time.time()\n",
    "        cd = (cl.CL(code, period, cl_config).process_klines(klines))\n",
    "        print('Run time: ', time.time() - _s)\n",
    "        return cd\n",
    "\n",
    "        \n",
    "    def plot_kline(self, cd):\n",
    "        \"\"\"绘制K线图\n",
    "        这里先用占位符，等待API提供后替换\n",
    "        \"\"\"\n",
    "        # TODO: 实现实际的绘图逻辑\n",
    "        # 清除旧图表\n",
    "        for widget in self.figure_frame.winfo_children():\n",
    "            widget.destroy()\n",
    "            \n",
    "        # 创建新图表\n",
    "        fig = plt.Figure(figsize=(12, 6))\n",
    "        canvas = FigureCanvasTkAgg(fig, self.figure_frame)\n",
    "        canvas.get_tk_widget().pack(fill=tk.BOTH, expand=True)\n",
    "        \n",
    "        # 在这里添加实际的K线绘制代码\n",
    "        title = '%s - 【%s】 周期数据图表' % (code, cd.frequency)\n",
    "        fig = kcharts.render_charts(title, cd)\n",
    "        # 嵌入图表到 tkinter 窗口中\n",
    "        canvas = FigureCanvasTkAgg(fig, master=self.figure_frame)\n",
    "        canvas.draw()\n",
    "        canvas.get_tk_widget().pack(fill=tk.BOTH, expand=True)\n",
    "        \n",
    "    def view_history(self, code: str, period: str, start_date=None, end_date=None):\n",
    "        \"\"\"主要接口：查看历史K线\"\"\"\n",
    "        try:\n",
    "            # 获取数据\n",
    "            cd = self.get_history_data(code, period, start_date, end_date)\n",
    "            if cd is None:\n",
    "                messagebox.showwarning(\"警告\", \"未获取到数据\")\n",
    "                return\n",
    "                \n",
    "            # 绘制K线图\n",
    "            self.plot_kline(cd)\n",
    "            \n",
    "        except Exception as e:\n",
    "            messagebox.showerror(\"错误\", str(e))\n",
    "            \n",
    "    def run(self):\n",
    "        \"\"\"运行程序\"\"\"\n",
    "        self.root.mainloop()\n",
    "\n"
   ]
  },
  {
   "cell_type": "code",
   "execution_count": 10,
   "id": "476c23f4",
   "metadata": {},
   "outputs": [
    {
     "name": "stdout",
     "output_type": "stream",
     "text": [
      "w 获取K线数据量： 1673\n",
      "Run time:  0.5433046817779541\n"
     ]
    }
   ],
   "source": [
    "def main():\n",
    "    viewer = StockHistoryViewer()\n",
    "    viewer.run()\n",
    "\n",
    "if __name__ == \"__main__\":\n",
    "    main()"
   ]
  },
  {
   "cell_type": "code",
   "execution_count": 17,
   "id": "d4c19a50",
   "metadata": {},
   "outputs": [
    {
     "name": "stdout",
     "output_type": "stream",
     "text": [
      "w 获取K线数据量： 1673\n",
      "Run time:  0.5532436370849609\n",
      "w 获取K线数据量： 1673\n",
      "Run time:  0.5389444828033447\n"
     ]
    }
   ],
   "source": [
    "from chanlun.backtesting.backtest_klines import BackTestKlines\n",
    "from chanlun import kcharts\n",
    "from chanlun.cl_utils import query_cl_chart_config\n",
    "from chanlun.exchange.exchange import *\n",
    "import pandas as pd\n",
    "from datetime import datetime, timedelta\n",
    "import matplotlib.pyplot as plt\n",
    "import tkinter as tk\n",
    "from tkinter import ttk, messagebox\n",
    "from matplotlib.backends.backend_tkagg import FigureCanvasTkAgg\n",
    "from chanlun.exchange.exchange_db import ExchangeDB\n",
    "import time\n",
    "from chanlun import cl\n",
    "from tkhtmlview import HTMLLabel\n",
    "\n",
    "market = 'a'\n",
    "code = 'SH.600285'\n",
    "start_date = '2021-02-02 15:00:00'\n",
    "end_date = '2023-05-11 15:00:00'\n",
    "frequencys = ['d']\n",
    "ex = ExchangeDB(market) # 读取数据库中的k线数据\n",
    "cl_config = query_cl_chart_config(market, code) # 读取缠论配置\n",
    "\n",
    "\n",
    "class StockHistoryViewer:\n",
    "    def __init__(self):\n",
    "        \"\"\"初始化查看器\"\"\"\n",
    "        self.supported_periods = ['1m', '5m', '30m', '60m', 'd', '2d', 'w']\n",
    "        self.setup_gui()\n",
    "        \n",
    "    def setup_gui(self):\n",
    "        \"\"\"设置图形界面\"\"\"\n",
    "        self.root = tk.Tk()\n",
    "        self.root.title(\"股票历史K线查看器\")\n",
    "        self.root.geometry(\"1200x800\")\n",
    "        \n",
    "        # 创建输入框架\n",
    "        input_frame = ttk.Frame(self.root, padding=\"10\")\n",
    "        input_frame.pack(fill=tk.X)\n",
    "        \n",
    "        # 股票代码输入\n",
    "        ttk.Label(input_frame, text=\"股票代码:\").pack(side=tk.LEFT, padx=5)\n",
    "        self.code_var = tk.StringVar()\n",
    "        self.code_entry = ttk.Entry(input_frame, textvariable=self.code_var)\n",
    "        self.code_entry.pack(side=tk.LEFT, padx=5)\n",
    "        ttk.Label(input_frame, text=\"(格式: SH.600000)\").pack(side=tk.LEFT)\n",
    "        \n",
    "        # 周期选择\n",
    "        ttk.Label(input_frame, text=\"K线周期:\").pack(side=tk.LEFT, padx=5)\n",
    "        self.period_var = tk.StringVar()\n",
    "        period_combo = ttk.Combobox(input_frame, textvariable=self.period_var, \n",
    "                                  values=self.supported_periods, width=5)\n",
    "        period_combo.pack(side=tk.LEFT, padx=5)\n",
    "        period_combo.set(self.supported_periods[0])\n",
    "        \n",
    "        # 查询按钮\n",
    "        ttk.Button(input_frame, text=\"查看K线\", \n",
    "                  command=self.on_view_click).pack(side=tk.LEFT, padx=20)\n",
    "        \n",
    "        # 创建图表区域\n",
    "        self.figure_frame = ttk.Frame(self.root)\n",
    "        self.figure_frame.pack(fill=tk.BOTH, expand=True, pady=10)\n",
    "        \n",
    "    def on_view_click(self):\n",
    "        \"\"\"查看按钮点击事件处理\"\"\"\n",
    "        code = self.code_var.get().strip()\n",
    "        period = self.period_var.get()\n",
    "        \n",
    "        if self.validate_inputs(code, period):\n",
    "            self.view_history(code, period)\n",
    "        \n",
    "    def validate_inputs(self, code: str, period: str) -> bool:\n",
    "        \"\"\"验证输入参数的有效性\"\"\"\n",
    "        # 验证股票代码格式\n",
    "        if not code.startswith(('SH.', 'SZ.')):\n",
    "            messagebox.showerror(\"错误\", \"股票代码必须以'SH.'或'SZ.'开头\")\n",
    "            return False\n",
    "            \n",
    "        # 验证周期格式\n",
    "        if period not in self.supported_periods:\n",
    "            messagebox.showerror(\"错误\", \n",
    "                f\"不支持的周期类型。支持的周期包括: {', '.join(self.supported_periods)}\")\n",
    "            return False\n",
    "            \n",
    "        return True\n",
    "        \n",
    "    def get_history_data(self, code: str, period: str, start_date=None, end_date=None):\n",
    "        \"\"\"从数据库获取历史数据\n",
    "        这里先用占位符，等待API提供后替换\n",
    "        \"\"\"\n",
    "        # TODO: 实现实际的数据获取逻辑\n",
    "        klines = ex.klines(code, frequency=period, start_date=start_date, end_date=end_date)\n",
    "        klines = klines[:]\n",
    "        print(period, '获取K线数据量：', len(klines))\n",
    "        _s = time.time()\n",
    "        cd = (cl.CL(code, period, cl_config).process_klines(klines))\n",
    "        print('Run time: ', time.time() - _s)\n",
    "        return cd\n",
    "\n",
    "        \n",
    "    def plot_kline(self, cd):\n",
    "        \"\"\"绘制K线图\n",
    "        这里先用占位符，等待API提供后替换\n",
    "        \"\"\"\n",
    "        # TODO: 实现实际的绘图逻辑\n",
    "        # 清除旧图表\n",
    "        for widget in self.figure_frame.winfo_children():\n",
    "            widget.destroy()\n",
    "            \n",
    "        # 创建新图表\n",
    "        fig = plt.Figure(figsize=(12, 6))\n",
    "        canvas = FigureCanvasTkAgg(fig, self.figure_frame)\n",
    "        canvas.get_tk_widget().pack(fill=tk.BOTH, expand=True)\n",
    "        \n",
    "        # 在这里添加实际的K线绘制代码\n",
    "        title = '%s - 【%s】 周期数据图表' % (code, cd.frequency)\n",
    "        html_content = kcharts.render_charts(title, cd)\n",
    "        # 创建 HTMLLabel 小部件\n",
    "        self.html_label = HTMLLabel(self.figure_frame, html=html_content)\n",
    "        self.html_label.pack(fill=tk.BOTH, expand=True)\n",
    "        \n",
    "    def view_history(self, code: str, period: str, start_date=None, end_date=None):\n",
    "        \"\"\"主要接口：查看历史K线\"\"\"\n",
    "        try:\n",
    "            # 获取数据\n",
    "            cd = self.get_history_data(code, period, start_date, end_date)\n",
    "            if cd is None:\n",
    "                messagebox.showwarning(\"警告\", \"未获取到数据\")\n",
    "                return\n",
    "                \n",
    "            # 绘制K线图\n",
    "            self.plot_kline(cd)\n",
    "            \n",
    "        except Exception as e:\n",
    "            messagebox.showerror(\"错误\", str(e))\n",
    "            \n",
    "    def run(self):\n",
    "        \"\"\"运行程序\"\"\"\n",
    "        self.root.mainloop()\n",
    "\n",
    "def main():\n",
    "    viewer = StockHistoryViewer()\n",
    "    viewer.run()\n",
    "\n",
    "if __name__ == \"__main__\":\n",
    "    main()"
   ]
  },
  {
   "cell_type": "code",
   "execution_count": null,
   "id": "18c9e0fa",
   "metadata": {},
   "outputs": [],
   "source": [
    "renders = []\n",
    "cl_datas = []\n",
    "\n",
    "for f in frequencys:\n",
    "    klines = ex.klines(code, frequency=f, start_date=start_date, end_date=end_date)\n",
    "    klines = klines[:]\n",
    "    print(f, '获取K线数据量：', len(klines))\n",
    "    _s = time.time()\n",
    "    cl_datas.append(cl.CL(code, f, cl_config).process_klines(klines))\n",
    "    print('Run time: ', time.time() - _s)\n",
    "\n",
    "for cd in cl_datas:\n",
    "    title = '%s - 【%s】 周期数据图表' % (code, cd.frequency)\n",
    "    renders.append(kcharts.render_charts(title, cd))"
   ]
  },
  {
   "cell_type": "code",
   "execution_count": null,
   "id": "f3e967c6",
   "metadata": {},
   "outputs": [],
   "source": [
    "renders[0]"
   ]
  },
  {
   "cell_type": "code",
   "execution_count": 12,
   "id": "920c7e5c-96bd-4aab-83a6-3e1a4be3a387",
   "metadata": {
    "pycharm": {
     "name": "#%%\n"
    },
    "tags": []
   },
   "outputs": [
    {
     "data": {
      "application/vnd.jupyter.widget-view+json": {
       "model_id": "c9a1e15b485d45deb72edacb61a6982e",
       "version_major": 2,
       "version_minor": 0
      },
      "text/plain": [
       "Run SH.600285:   0%|          | 0/548 [00:00<?, ?it/s]"
      ]
     },
     "metadata": {},
     "output_type": "display_data"
    }
   ],
   "source": [
    "# 回放的数据配置\n",
    "# market = 'currency'\n",
    "# code = 'ETH/USDT'\n",
    "# start_date = '2023-02-02 14:30:00'\n",
    "# end_date = '2023-02-02 15:00:00'\n",
    "# frequencys = ['5m']\n",
    "\n",
    "\n",
    "\n",
    "cl_config = query_cl_chart_config(market, code)\n",
    "\n",
    "bk = BackTestKlines(market, start_date, end_date, frequencys, cl_config)\n",
    "bk.init(code, frequencys[0])"
   ]
  },
  {
   "cell_type": "code",
   "execution_count": 13,
   "id": "c95d98cb-bdb1-4ff4-a65e-12dbaf5b2985",
   "metadata": {
    "pycharm": {
     "name": "#%%\n"
    },
    "tags": []
   },
   "outputs": [],
   "source": [
    "# 依次执行此单元格，检查缠论计算结果\n",
    "while (bk.next()):\n",
    "    cd = bk.get_cl_data(code, frequencys[0])\n",
    "    # kcharts.render_charts(code, cd, config=cl_config)"
   ]
  },
  {
   "cell_type": "code",
   "execution_count": null,
   "id": "51be9b43-1525-4e38-8ee3-014ad990ff25",
   "metadata": {
    "pycharm": {
     "name": "#%%\n"
    },
    "tags": []
   },
   "outputs": [],
   "source": [
    "cd2 = bk.get_cl_data(code, frequencys[0])\n",
    "kcharts.render_charts(code, cd2, config=cl_config)"
   ]
  },
  {
   "cell_type": "code",
   "execution_count": 15,
   "id": "e1f804c3",
   "metadata": {},
   "outputs": [],
   "source": [
    "fig = kcharts.render_charts(code, cd, config=cl_config)"
   ]
  },
  {
   "cell_type": "code",
   "execution_count": 16,
   "id": "b5848e68",
   "metadata": {},
   "outputs": [
    {
     "data": {
      "text/plain": [
       "pyecharts.render.display.HTML"
      ]
     },
     "execution_count": 16,
     "metadata": {},
     "output_type": "execute_result"
    }
   ],
   "source": [
    "type(fig)"
   ]
  },
  {
   "cell_type": "code",
   "execution_count": null,
   "id": "0985e297-a61e-4255-bb3a-8c85564c0ed4",
   "metadata": {
    "pycharm": {
     "name": "#%%\n"
    },
    "tags": []
   },
   "outputs": [],
   "source": [
    "zss = cd.get_xd_zss()\n",
    "zs = zss[-1]\n",
    "print(zs)"
   ]
  },
  {
   "cell_type": "code",
   "execution_count": null,
   "id": "638f9e71",
   "metadata": {},
   "outputs": [],
   "source": [
    "last_zs = cd.get_last_xd_zs()\n",
    "print(last_zs)\n",
    "for line in last_zs.lines:\n",
    "    print(line)"
   ]
  },
  {
   "cell_type": "code",
   "execution_count": null,
   "id": "c0a25c74",
   "metadata": {},
   "outputs": [],
   "source": [
    "print(zs.type)"
   ]
  },
  {
   "cell_type": "code",
   "execution_count": null,
   "id": "2e3f71d1",
   "metadata": {},
   "outputs": [],
   "source": [
    "print(cd.get_last_xd_zs())"
   ]
  },
  {
   "cell_type": "code",
   "execution_count": null,
   "id": "53f9bc49",
   "metadata": {},
   "outputs": [],
   "source": [
    "for line in zs.lines:\n",
    "    print(line)"
   ]
  },
  {
   "cell_type": "code",
   "execution_count": null,
   "id": "0632f8b4-0bfc-4ce9-8017-9cd402728292",
   "metadata": {
    "pycharm": {
     "name": "#%%\n"
    },
    "tags": []
   },
   "outputs": [],
   "source": [
    "bk.now_date"
   ]
  },
  {
   "cell_type": "code",
   "execution_count": null,
   "id": "c1a6ede5-c34b-411a-b7f7-48252cb6a496",
   "metadata": {
    "pycharm": {
     "name": "#%%\n"
    },
    "tags": []
   },
   "outputs": [],
   "source": [
    "print(cd.get_xds()[-1])"
   ]
  },
  {
   "cell_type": "code",
   "execution_count": null,
   "id": "c42814c3-40dc-4b91-83f2-f11e99557501",
   "metadata": {
    "pycharm": {
     "name": "#%%\n"
    },
    "tags": []
   },
   "outputs": [],
   "source": [
    "xd = cd.get_xds()[-1]\n",
    "bi_index = xd.end_line.index\n",
    "print(bi_index)\n",
    "bis = cd.get_bis()[bi_index:]\n",
    "for bi in bis:\n",
    "    print(bi)"
   ]
  },
  {
   "cell_type": "code",
   "execution_count": null,
   "id": "8fe94ca7-e70c-49d4-bc3c-3143dc5e6105",
   "metadata": {
    "pycharm": {
     "name": "#%%\n"
    },
    "tags": []
   },
   "outputs": [],
   "source": []
  },
  {
   "cell_type": "code",
   "execution_count": null,
   "id": "326fa8c6-a1a4-40ab-aae7-74f031ade93c",
   "metadata": {
    "pycharm": {
     "name": "#%%\n"
    }
   },
   "outputs": [],
   "source": []
  }
 ],
 "metadata": {
  "kernelspec": {
   "display_name": "Python 3 (ipykernel)",
   "language": "python",
   "name": "python3"
  },
  "language_info": {
   "codemirror_mode": {
    "name": "ipython",
    "version": 3
   },
   "file_extension": ".py",
   "mimetype": "text/x-python",
   "name": "python",
   "nbconvert_exporter": "python",
   "pygments_lexer": "ipython3",
   "version": "3.11.10"
  }
 },
 "nbformat": 4,
 "nbformat_minor": 5
}
