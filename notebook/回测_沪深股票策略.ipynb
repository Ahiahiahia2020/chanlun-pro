{
 "cells": [
  {
   "cell_type": "code",
   "execution_count": 1,
   "metadata": {
    "execution": {
     "iopub.execute_input": "2022-05-12T12:08:10.948881Z",
     "iopub.status.busy": "2022-05-12T12:08:10.947878Z",
     "iopub.status.idle": "2022-05-12T12:08:13.183982Z",
     "shell.execute_reply": "2022-05-12T12:08:13.182979Z",
     "shell.execute_reply.started": "2022-05-12T12:08:10.948881Z"
    },
    "pycharm": {
     "name": "#%%\n"
    },
    "tags": []
   },
   "outputs": [
    {
     "name": "stderr",
     "output_type": "stream",
     "text": [
      "c:\\Users\\Zhou\\anaconda3\\envs\\chanlun\\Lib\\site-packages\\pyfolio\\pos.py:25: UserWarning: Module \"zipline.assets\" not found; multipliers will not be applied to position notionals.\n",
      "  warnings.warn(\n"
     ]
    },
    {
     "name": "stdout",
     "output_type": "stream",
     "text": [
      "Chanlun-Pro 缠论数据计算\n",
      "https://gitee.com/wang-student/chanlun-pro\n",
      "运行环境: Python: 3.11\n",
      "授权信息: A_hia_hia_hia-VIP \n",
      " *  *  *  *  *  *  *  *  *  *  *  *  *  *  *  *  *  *  *  * \n"
     ]
    }
   ],
   "source": [
    "from chanlun.backtesting import backtest\n",
    "from chanlun.backtesting.optimize import OptimizationSetting\n",
    "from chanlun.strategy.my_strategy_dnbbc import StrategyDnbbc\n",
    "import pandas as pd\n",
    "from chanlun.cl_utils import query_cl_chart_config\n"
   ]
  },
  {
   "cell_type": "code",
   "execution_count": 5,
   "metadata": {
    "execution": {
     "iopub.execute_input": "2022-05-12T12:08:13.805069Z",
     "iopub.status.busy": "2022-05-12T12:08:13.804066Z",
     "iopub.status.idle": "2022-05-12T12:08:13.836065Z",
     "shell.execute_reply": "2022-05-12T12:08:13.835060Z",
     "shell.execute_reply.started": "2022-05-12T12:08:13.805069Z"
    },
    "pycharm": {
     "name": "#%%\n"
    },
    "tags": []
   },
   "outputs": [],
   "source": [
    "# 量化配置\n",
    "bt_config = {\n",
    "    # 策略结果保存的文件\n",
    "    'save_file': 'D:/xuangu_log/a_strategy_Dnbbc/a_strategy_Dnbbc.pkl',\n",
    "    # 'save_file': './a_strategy_Dnbbc_d_gold_cross.pkl',\n",
    "\n",
    "    # 设置策略对象\n",
    "    'strategy': StrategyDnbbc(),\n",
    "    # 回测模式：signal 信号模式，固定金额开仓； trade 交易模式，按照实际金额开仓\n",
    "    'mode': 'signal',\n",
    "    # 市场配置，currency 数字货币  a 沪深  hk  港股  futures  期货\n",
    "    'market': 'a',\n",
    "    # 基准代码，用于获取回测的时间列表\n",
    "    'base_code': 'SH.000001',\n",
    "    # 回测的标的代码，2021年后符合条件股票\n",
    "    # 'codes' : ['SH.601808'], \n",
    "    'codes' : [\n",
    "            'SZ.002131', 'SH.600600', 'SH.601619', 'SH.600814', 'SZ.300430', 'SZ.300333', 'SZ.300265', 'SH.601117', 'SH.603378', 'SZ.301015', 'SH.603387', 'SH.600883', 'SH.601038', 'SH.688315', 'SZ.002236', 'SZ.300295', 'SH.603301', 'SH.603856', 'SZ.000972', 'SH.603988', 'SZ.300174', 'SZ.300213', 'SZ.301096', 'SH.601808', 'SH.603855', 'SH.600809', 'SZ.300355', 'SH.600016', 'SZ.002718', 'SH.600562', 'SZ.001696', 'SZ.300761', 'SZ.300044', 'SH.600801', 'SZ.300429', 'SZ.002887', 'SZ.002458', 'SZ.300733', 'SH.605377', 'SH.600178', 'SZ.000626', 'SZ.300326', 'SZ.300602', 'SZ.002280', 'SZ.300663', 'SH.605086', 'SZ.002906', 'SH.600531', 'SH.603300', 'SH.605186', 'SH.688029', 'SZ.002122', 'SZ.300809', 'SH.601991', 'SZ.003019', 'SZ.300331', 'SZ.300169', 'SZ.002939', 'SZ.002707', 'SZ.300750', 'SZ.000506', 'SZ.002562', 'SH.601500', 'SH.600839', 'SH.603711', 'SH.601375', 'SZ.002793', 'SZ.300757', 'SH.603683', 'SZ.300896', 'SZ.002576', 'SZ.300370', 'SZ.300473', 'SZ.002101', 'SH.600362', 'SZ.002256', 'SZ.300022', 'SZ.300345', 'SZ.002935', 'SZ.000726', 'SH.603006', 'SZ.300678', 'SH.600313', 'SZ.300328', 'SH.600052', 'SH.601139', 'SZ.002705', 'SH.688191', 'SZ.002556', 'SH.688082', 'SZ.000590', 'SZ.002073', 'SH.600280', 'SH.600568', 'SH.603297', 'SH.600685', 'SH.600331', 'SZ.002034', 'SH.603056', 'SZ.002264', 'SZ.002856', 'SZ.300275', 'SH.603689', 'SZ.300843', 'SZ.002152', 'SH.600855', 'SH.600889', 'SZ.300798', 'SZ.300007', 'SZ.002097', 'SZ.300833', 'SZ.002354', 'SZ.000813', 'SZ.002873', 'SH.600162', 'SH.603730', 'SZ.002229', 'SH.600182', 'SZ.300137', 'SZ.000729', 'SZ.002796', 'SZ.002988', 'SH.600641', 'SH.600536', 'SH.600590', 'SZ.000529', 'SH.601702', 'SZ.002641', 'SZ.300569', 'SH.600468', 'SH.600309', 'SH.600312', 'SZ.300845', 'SZ.000960', 'SZ.300335', 'SZ.002807', 'SH.603786', 'SH.603608', 'SH.603311', 'SZ.002010', 'SZ.002531', 'SZ.002674', 'SH.688228', 'SH.603787', 'SH.688065', 'SZ.000069', 'SZ.300280', 'SZ.300756', 'SZ.300825', 'SZ.300538', 'SH.600217', 'SH.600397', 'SH.605081', 'SZ.002159', 'SH.688229', 'SZ.002431', 'SZ.002502', 'SZ.002715', 'SZ.300113', 'SZ.002737', 'SZ.300218', 'SZ.300541', 'SH.600055', 'SH.688711', 'SZ.002081', 'SZ.300188', 'SH.601231', 'SZ.000509', 'SZ.002219', 'SZ.300672', 'SZ.000962', 'SZ.000027', 'SZ.000059', 'SH.600080', 'SZ.300991', 'SZ.300234', 'SZ.300570', 'SZ.002112', 'SH.600166', 'SZ.300172', 'SH.603041', 'SZ.000550', 'SH.600011', 'SH.601015', 'SZ.000708', 'SZ.002046', 'SZ.300749', 'SZ.300387', 'SH.605168', 'SH.600459', 'SH.600692', 'SZ.000049', 'SH.601669', 'SZ.002275', 'SZ.300670', 'SH.600239', 'SZ.002634', 'SH.688323', 'SH.603015', 'SZ.300892', 'SZ.000066', 'SH.688019', 'SH.688008', 'SH.603328', 'SH.603336', 'SZ.002620', 'SZ.300259', 'SH.601111', 'SZ.000407', 'SZ.300810', 'SZ.000878', 'SZ.300668', 'SZ.300778', 'SH.603757', 'SH.600987', 'SH.603626', 'SZ.002090', 'SH.688020', 'SZ.300207', 'SZ.000967', 'SZ.300324', 'SH.600116', 'SH.603351', 'SZ.300620', 'SZ.300221', 'SZ.000892', 'SZ.000971', 'SZ.300553', 'SZ.002160', 'SH.601318', 'SH.605337', 'SH.600578', 'SH.600105', 'SH.600916', 'SH.600996', 'SZ.002052', 'SH.603809', 'SH.600599', 'SZ.002017', 'SZ.002345', 'SZ.002831', 'SZ.300101', 'SH.600793', 'SH.603506', 'SZ.002291', 'SH.600115', 'SH.688113', 'SZ.002498', 'SZ.000963', 'SH.688388', 'SZ.002361', 'SH.600386', 'SH.600425', 'SZ.002623', 'SZ.002180', 'SH.600462', 'SH.600300', 'SH.603020', 'SZ.000333', 'SZ.300818', 'SZ.300736', 'SZ.002063', 'SZ.002862', 'SZ.000860', 'SH.605158', 'SZ.300025', 'SZ.300713', 'SZ.002016', 'SH.600787', 'SH.603685', 'SZ.002926', 'SZ.002187', 'SH.603017', 'SZ.300946', 'SH.600328', 'SH.601137', 'SZ.300245', 'SH.603600', 'SH.603983', 'SZ.002610', 'SZ.000035', 'SH.603927', 'SZ.300302', 'SZ.300690', 'SH.603303', 'SH.603355', 'SH.603105', 'SZ.000428', 'SH.600233', 'SZ.002338', 'SZ.002127', 'SZ.300139', 'SZ.300472', 'SZ.300579', 'SZ.002371', 'SZ.300514', 'SH.603025', 'SH.688466', 'SH.603103', 'SZ.002395', 'SZ.300507', 'SH.603222', 'SZ.300127', 'SH.600919', 'SH.603718', 'SH.605018', 'SZ.300351', 'SZ.300537', 'SZ.002682', 'SH.601598', 'SZ.300887', 'SZ.300254', 'SH.600137', 'SH.601975', 'SZ.002843', 'SZ.000503', 'SH.601789', 'SH.603707', 'SZ.002062', 'SZ.300399', 'SZ.002384', 'SZ.000859', 'SZ.002816', 'SH.603268', 'SH.688166', 'SH.688188', 'SH.600199', 'SH.601607', 'SZ.300170', 'SH.601336', 'SZ.300444', 'SZ.300448', 'SH.600221', 'SZ.300697', 'SZ.002884', 'SZ.300190', 'SZ.300304', 'SH.600626', 'SZ.300943', 'SH.603067', 'SH.688510', 'SZ.002178', 'SH.603599', 'SZ.002255', 'SZ.000679', 'SZ.002427', 'SZ.002196', 'SH.688186', 'SH.605128', 'SZ.000608', 'SH.603396', 'SH.600131', 'SH.600741', 'SZ.002368', 'SH.600252', 'SH.601326', 'SZ.002721', 'SH.603158', 'SZ.300383', 'SH.688017', 'SH.688360', 'SH.688106', 'SZ.300424', 'SZ.300185', 'SZ.300493', 'SZ.300661', 'SH.603726', 'SZ.300005', 'SZ.300290', 'SZ.002492', 'SZ.002274', 'SZ.002984', 'SZ.000977', 'SZ.002991', 'SZ.002234', 'SH.688160', 'SH.603893', 'SH.601456', 'SH.601208', 'SZ.000700', 'SH.601608', 'SH.600503', 'SH.600579', 'SH.603808', 'SZ.300557', 'SZ.001914', 'SH.600638', 'SH.603180', 'SH.600587', 'SH.603379', 'SH.603833', 'SZ.002300', 'SH.600871', 'SZ.300864', 'SH.600066', 'SH.600551', 'SH.601577', 'SZ.002027', 'SZ.002123', 'SZ.300572', 'SZ.002039', 'SH.603919', 'SZ.002918', 'SH.605068', 'SZ.002806', 'SZ.300531', 'SZ.000533', 'SH.601717', 'SZ.002003', 'SZ.002506', 'SZ.002508', 'SZ.301179', 'SZ.002273', 'SZ.300691', 'SH.600827', 'SZ.300050', 'SZ.300411', 'SZ.300425', 'SH.600135', 'SH.601212', 'SH.603909', 'SZ.000065', 'SZ.300314', 'SZ.301052', 'SZ.002990', 'SH.600262', 'SZ.300841', 'SZ.002446', 'SH.603713', 'SZ.300196', 'SZ.002608', 'SZ.002702', 'SH.603212', 'SZ.000596', 'SZ.002647', 'SH.603992', 'SH.603199', 'SZ.002578', 'SH.600477', 'SZ.300258', 'SH.600382', 'SH.603330', 'SH.688356', 'SZ.002629', 'SZ.000661', 'SZ.300012', 'SH.600375', 'SZ.002045', 'SZ.300470', 'SH.603183', 'SZ.300072', 'SZ.300638', 'SZ.002085', 'SZ.002743', 'SZ.002664', 'SH.603037', 'SH.600782', 'SZ.300031', 'SH.603090', 'SH.603527', 'SZ.300680', 'SH.600546', 'SZ.002426', 'SZ.002908', 'SH.600584', 'SZ.300644', 'SZ.301008', 'SZ.300086', 'SH.603823', 'SZ.002752', 'SH.601777', 'SH.603536', 'SZ.001872', 'SZ.002115', 'SZ.002650', 'SH.603266', 'SH.600480', 'SH.603081', 'SZ.002182', 'SH.603886', 'SZ.300571', 'SZ.002938', 'SH.601088', 'SZ.002736', 'SZ.002920', 'SZ.000839', 'SZ.002546', 'SZ.002114', 'SZ.002448', 'SZ.002929', 'SZ.300830', 'SZ.300738', 'SH.600650', 'SH.600435', 'SZ.300298', 'SZ.000830', 'SH.600097', 'SZ.300018', 'SZ.002080', 'SH.688128', 'SH.688655', 'SH.688003', 'SZ.002899', 'SZ.002369', 'SZ.300446', 'SH.603677', 'SZ.002973', 'SZ.000055', 'SZ.300056', 'SZ.300323', 'SZ.002028', 'SH.603885', 'SZ.002452', 'SZ.000409', 'SZ.002007', 'SZ.300341', 'SH.603596', 'SH.603903', 'SZ.300555', 'SZ.002572', 'SH.688676', 'SH.601727', 'SH.603305', 'SZ.000801', 'SZ.300242', 'SZ.000779', 'SZ.002970', 'SZ.002179', 'SZ.002132', 'SZ.300138', 'SZ.300194', 'SZ.000869', 'SZ.300492', 'SZ.300129', 'SH.600645', 'SH.603610', 'SH.603121', 'SZ.300848', 'SH.600676', 'SH.605008', 'SH.600875', 'SH.601155', 'SZ.000951', 'SZ.300173', 'SH.688513', 'SZ.002138', 'SH.603825', 'SZ.300567', 'SZ.002168', 'SZ.002083', 'SZ.300543', 'SZ.002449', 'SH.601928', 'SZ.300243', 'SH.600909', 'SZ.300010', 'SZ.300329', 'SH.603722', 'SH.605299', 'SZ.300568', 'SZ.000922', 'SH.600160', 'SZ.002479', 'SZ.002555', 'SZ.300305', 'SH.600863', 'SH.601228', 'SZ.300029', 'SZ.300915', 'SZ.002456', 'SZ.000565', 'SZ.300141', 'SZ.002462', 'SH.603859', 'SZ.002441', 'SH.600684', 'SZ.000826', 'SZ.300683', 'SZ.002981', 'SZ.000415', 'SZ.000659', 'SZ.000582', 'SH.603848', 'SZ.000928', 'SZ.300121', 'SH.688037', 'SH.603369', 'SZ.002930', 'SH.600213', 'SH.603488', 'SZ.300575', 'SH.603236', 'SH.601929', 'SH.600185', 'SZ.300722', 'SZ.003012', 'SZ.301050', 'SH.600101', 'SH.600035', 'SZ.002701', 'SZ.000559', 'SZ.300100', 'SZ.002397', 'SZ.002750', 'SH.688418', 'SZ.002290', 'SZ.300084', 'SH.603609', 'SH.603123', 'SH.603326', 'SH.603727', 'SH.601618', 'SZ.000938', 'SH.600082', 'SH.688663', 'SZ.300790', 'SH.603288', 'SZ.000933', 'SZ.002119', 'SZ.300052', 'SH.603239', 'SH.600523', 'SZ.000683', 'SZ.000915', 'SH.603515', 'SH.688230', 'SZ.000751', 'SZ.300434', 'SH.603085', 'SZ.300215', 'SZ.300777', 'SH.601000', 'SZ.300224', 'SH.603989', 'SH.603228', 'SH.603661', 'SZ.000513', 'SZ.002727', 'SZ.002105', 'SH.600195', 'SZ.300201', 'SH.603321', 'SZ.000887', 'SZ.300037', 'SH.688028', 'SZ.002483', 'SH.603898', 'SZ.000557', 'SZ.002142', 'SH.600288', 'SZ.300719', 'SZ.002032', 'SZ.002517', 'SZ.002233', 'SZ.300423', 'SH.600399', 'SH.603188', 'SZ.002047', 'SZ.002789', 'SZ.300970', 'SH.600206', 'SZ.002529', 'SZ.002311', 'SH.600152', 'SH.603517', 'SZ.300346', 'SZ.002599', 'SZ.300866', 'SZ.002883', 'SZ.300176', 'SZ.300611', 'SH.601633', 'SZ.002111', 'SZ.300165', 'SZ.300065', 'SZ.000636', 'SH.600592', 'SZ.300308', 'SZ.300872', 'SH.600038', 'SH.600073', 'SZ.000949', 'SH.601939', 'SZ.002253', 'SZ.300376', 'SH.603568', 'SH.605218', 'SZ.002413', 'SH.600285', 'SH.603818', 'SH.603323', 'SZ.002681', 'SZ.000753', 'SZ.002685', 'SH.600730', 'SZ.300223', 'SZ.301131', 'SZ.000523', 'SZ.000883', 'SH.603861', 'SH.603606', 'SZ.000966', 'SZ.300436', 'SZ.300348', 'SH.600545', 'SH.601512', 'SH.605116', 'SZ.300257', 'SH.600674', 'SZ.002475', 'SZ.300748', 'SZ.000796', 'SZ.002344', 'SZ.300536', 'SZ.000410', 'SZ.002648', 'SZ.300828', 'SZ.300706', 'SZ.000571', 'SH.600733', 'SH.600380', 'SZ.002325', 'SZ.002214', 'SZ.002351', 'SH.600029', 'SZ.002328', 'SZ.000429', 'SH.600764', 'SZ.300783', 'SZ.000701', 'SZ.000552', 'SZ.300596', 'SZ.002059', 'SH.601238', 'SH.600702', 'SH.600259', 'SH.603109', 'SZ.002471', 'SZ.002444', 'SZ.002637', 'SZ.00193', 'SZ.002443', 'SH.601901', 'SZ.300375', 'SH.600961', 'SZ.002078', 'SH.600619', 'SZ.002677', 'SH.603605', 'SZ.002817', 'SZ.002433', 'SH.603360', 'SZ.300222', 'SZ.000738', 'SZ.000006', 'SZ.002538', 'SH.600797', 'SH.603338', 'SH.688366', 'SH.688215', 'SZ.002223', 'SH.603110', 'SZ.000932', 'SZ.002520', 'SH.600335', 'SH.603009', 'SH.688321', 'SZ.300252', 'SZ.000561', 'SZ.300643', 'SH.603042', 'SZ.002207', 'SZ.002544', 'SH.600758', 'SH.600821', 'SZ.002387', 'SH.600505', 'SZ.300610', 'SH.688057', 'SZ.300002', 'SH.603259', 'SH.603773', 'SH.601021', 'SH.603088', 'SH.600559', 'SZ.003013', 'SZ.300203', 'SH.601229', 'SZ.000930', 'SH.600017', 'SH.600979', 'SZ.000692', 'SH.603698', 'SZ.002989', 'SH.603528', 'SZ.300692', 'SH.600998', 'SH.600522', 'SZ.002405', 'SH.688007', 'SH.688096', 'SZ.300595', 'SH.600841', 'SZ.300857', 'SZ.002109', 'SZ.002947', 'SH.600877', 'SH.600682', 'SH.601688', 'SZ.002277', 'SZ.300098', 'SH.603068', 'SZ.000060', 'SZ.002742', 'SH.600558', 'SH.600203', 'SH.600287', 'SZ.002527', 'SH.600509', 'SZ.002019', 'SH.601778', 'SH.688300', 'SZ.002982', 'SH.601108', 'SZ.002978', 'SZ.002782', 'SH.603580', 'SZ.300666', 'SZ.002065', 'SZ.002749', 'SH.603658', 'SZ.300566', 'SH.600130', 'SH.601555', 'SH.603987', 'SH.688488', 'SZ.300577', 'SH.600019', 'SZ.300183', 'SZ.300589', 'SZ.300070', 'SZ.002728', 'SZ.003026', 'SH.603721', 'SZ.002524', 'SH.603160', 'SZ.000036', 'SZ.300047', 'SH.601890', 'SH.603920', 'SH.603018', 'SH.603507', 'SH.601127', 'SZ.300590', 'SZ.002870', 'SZ.300613', 'SH.600150', 'SZ.300580', 'SH.600316', 'SZ.002837', 'SH.600298', 'SH.600836', 'SZ.002053', 'SZ.002042', 'SZ.002739', 'SZ.002353', 'SZ.300599', 'SZ.301076', 'SZ.000629', 'SZ.000983', 'SZ.300062', 'SZ.000045'\n",
    "            ],\n",
    "    # 回测的周期，这里设置里，在策略中才能取到对应周期的数据\n",
    "    'frequencys': ['d','30m'],\n",
    "    # 回测开始的时间\n",
    "    'start_datetime': '2019-01-01 00:00:00',\n",
    "    # 'start_datetime': '2023-01-01 00:00:00',\n",
    "    # 回测的结束时间\n",
    "    'end_datetime': '2024-12-28 00:00:00',\n",
    "    # mode 为 trade 生效，初始账户资金\n",
    "    'init_balance': 1000000,\n",
    "    # mode 为 trade 生效，交易手续费率\n",
    "    'fee_rate': 0.0006,\n",
    "    # mode 为 trade 生效，最大持仓数量（分仓）\n",
    "    'max_pos': 10,\n",
    "    # 缠论计算的配置，详见缠论配置说明\n",
    "    'cl_config': query_cl_chart_config('a', 'SH.000001'),\n",
    "}\n",
    "\n",
    "# 参数优化设置\n",
    "setting = OptimizationSetting()\n",
    "setting.add_cl_parameter('bi_type', ['bi_type_old', 'bi_type_new'])\n",
    "setting.add_cl_parameter('bi_bzh', ['bi_bzh_yes', 'bi_bzh_no'])\n",
    "setting.add_cl_parameter('zs_bi_type', ['zs_type_bz', 'zs_type_dn'])\n",
    "setting.add_cl_parameter('zs_xd_type', ['zs_type_bz', 'zs_type_dn'])\n",
    "\n",
    "\n",
    "BT = backtest.BackTest(bt_config)\n",
    "BT.datas.load_data_to_cache = True # 是否将所有k线数据加载到内存中，如果内存吃紧，可以设置为 False，这样每次循环都会从数据库中读取\n",
    "BT.datas.load_kline_nums = 100000 # 每次 klines 方法中返回的k线数据条数\n",
    "BT.datas.cl_data_kline_max_nums = 300000 # 回测过程中，如果缠论对象的数据量超过这个值，则会清空重新计算，cl_data_kline_max_nums 不能小于 load_kline_nums，否则将会不断的删除并重新计算"
   ]
  },
  {
   "cell_type": "code",
   "execution_count": null,
   "metadata": {
    "pycharm": {
     "name": "#%%\n"
    },
    "tags": []
   },
   "outputs": [],
   "source": [
    "# # 跑参数优化\n",
    "# results = BT.run_optimization(setting)\n",
    "# print(results)"
   ]
  },
  {
   "cell_type": "code",
   "execution_count": null,
   "metadata": {
    "pycharm": {
     "name": "#%%\n"
    },
    "tags": []
   },
   "outputs": [],
   "source": [
    "# # 跑参数优化\n",
    "# results = BT.run_optimization(setting)\n",
    "# print(results)"
   ]
  },
  {
   "cell_type": "code",
   "execution_count": 3,
   "metadata": {
    "execution": {
     "iopub.execute_input": "2022-05-06T01:16:01.328861Z",
     "iopub.status.busy": "2022-05-06T01:16:01.327861Z",
     "iopub.status.idle": "2022-05-06T01:26:39.761810Z",
     "shell.execute_reply": "2022-05-06T01:26:39.760900Z",
     "shell.execute_reply.started": "2022-05-06T01:16:01.328861Z"
    },
    "pycharm": {
     "name": "#%%\n"
    },
    "scrolled": true,
    "tags": []
   },
   "outputs": [
    {
     "data": {
      "application/vnd.jupyter.widget-view+json": {
       "model_id": "74e7901bfaa442a9a450279e28f1de81",
       "version_major": 2,
       "version_minor": 0
      },
      "text/plain": [
       "Run SH.000001:   0%|          | 0/11632 [00:00<?, ?it/s]"
      ]
     },
     "metadata": {},
     "output_type": "display_data"
    },
    {
     "name": "stderr",
     "output_type": "stream",
     "text": [
      "运行完成，执行时间：102.7126111984253\n",
      "save to : D:/xuangu_log/a_strategy_Dnbbc/a_strategy_Dnbbc.pkl\n"
     ]
    },
    {
     "name": "stdout",
     "output_type": "stream",
     "text": [
      "Done\n"
     ]
    }
   ],
   "source": [
    "# 运行回测\n",
    "# BT.run(BT.frequencys[-1])\n",
    "# 多进程回测，只支持信号回测模式\n",
    "BT.run_process(BT.frequencys[-1], 22)\n",
    "# 保存回测结果到文件中\n",
    "BT.save()\n",
    "print('Done')\n",
    "# 10m 57.59s"
   ]
  },
  {
   "cell_type": "code",
   "execution_count": null,
   "metadata": {},
   "outputs": [],
   "source": [
    "BT.save()"
   ]
  },
  {
   "cell_type": "code",
   "execution_count": 4,
   "metadata": {
    "execution": {
     "iopub.execute_input": "2022-05-06T06:33:48.847311Z",
     "iopub.status.busy": "2022-05-06T06:33:48.847311Z",
     "iopub.status.idle": "2022-05-06T06:33:49.016472Z",
     "shell.execute_reply": "2022-05-06T06:33:49.015502Z",
     "shell.execute_reply.started": "2022-05-06T06:33:48.847311Z"
    },
    "pycharm": {
     "name": "#%%\n"
    },
    "tags": []
   },
   "outputs": [
    {
     "name": "stderr",
     "output_type": "stream",
     "text": [
      "2025-01-04 14:14:04\n",
      "保存地址 : D:/xuangu_log/a_strategy_Dnbbc/a_strategy_Dnbbc.pkl\n",
      "回测模式 【signal】市场 【a】初始资金 【1000000】 手续费率 【0.0006】\n",
      "策略 : <chanlun.strategy.my_strategy_dnbbc.StrategyDnbbc object at 0x000001B1FAC83D50>\n",
      "基准代码 : SH.000001\n",
      "回测代码 : ['SH.601808']\n",
      "周期 : ['d', '30m']\n",
      "起始时间 : 2019-01-01 00:00:00 结束时间 : 2024-12-28 00:00:00\n",
      "缠论配置 : {'config_use_type': 'common', 'kline_type': 'kline_default', 'kline_qk': 'none', 'fx_qj': 'fx_qj_ck', 'fx_bh': 'fx_bh_no', 'bi_type': 'bi_type_old', 'bi_bzh': 'bi_bzh_yes', 'bi_qj': 'bi_qj_ck', 'bi_fx_cgd': 'bi_fx_cgd_no', 'xd_qj': 'xd_qj_ck', 'zsd_qj': 'zsd_qj_ck', 'zs_bi_type': ['zs_type_fl'], 'zs_xd_type': ['zs_type_fl'], 'zs_qj': 'zs_qj_ck', 'zs_wzgx': 'zs_wzgx_gd', 'zs_optimize': '0', 'idx_macd_fast': '12', 'idx_macd_slow': '26', 'idx_macd_signal': '9', 'fx_qy': 'fx_qy_middle', 'xd_zs_max_lines_split': '11', 'allow_split_one_line_to_xd': '0', 'allow_bi_fx_strict': '1', 'enable_kchart_low_to_high': '0', 'bi_split_k_cross_nums': '99,0', 'fx_check_k_nums': '99', 'cl_mmd_cal_qs_1mmd': '1', 'cl_mmd_cal_not_qs_3mmd_1mmd': '1', 'cl_mmd_cal_qs_3mmd_1mmd': '1', 'cl_mmd_cal_qs_not_lh_2mmd': '1', 'cl_mmd_cal_qs_bc_2mmd': '1', 'cl_mmd_cal_3mmd_not_lh_bc_2mmd': '1', 'cl_mmd_cal_1mmd_not_lh_2mmd': '1', 'cl_mmd_cal_3mmd_xgxd_not_bc_2mmd': '1', 'cl_mmd_cal_not_in_zs_3mmd': '1', 'cl_mmd_cal_not_in_zs_gt_9_3mmd': '1', 'chart_show_infos': '1', 'chart_show_fx': '1', 'chart_show_bi': '1', 'chart_show_xd': '1', 'chart_show_zsd': '1', 'chart_show_qsd': '1', 'chart_show_bi_zs': '1', 'chart_show_xd_zs': '1', 'chart_show_zsd_zs': '1', 'chart_show_qsd_zs': '1', 'chart_show_bi_mmd': '1', 'chart_show_xd_mmd': '1', 'chart_show_zsd_mmd': '1', 'chart_show_qsd_mmd': '1', 'chart_show_bi_bc': '1', 'chart_show_xd_bc': '1', 'chart_show_zsd_bc': '1', 'chart_show_qsd_bc': '1', 'chart_show_ma': '1', 'chart_show_boll': '1', 'chart_show_futu': 'macd', 'chart_show_atr_stop_loss': False, 'chart_show_ld': 'xd', 'chart_kline_nums': 1000, 'chart_idx_ma_period': '120,250', 'chart_idx_vol_ma_period': '5,60', 'chart_idx_boll_period': 20, 'chart_idx_rsi_period': 14, 'chart_idx_atr_period': 14, 'chart_idx_atr_multiplier': 1.5, 'chart_idx_cci_period': 14, 'chart_idx_kdj_period': '9,3,3', 'chart_qstd': 'xd,0', 'judge_zs_qs_level': '1', 'xd_allow_bi_pohuai': 'yes_qk', 'xd_allow_split_no_highlow': '1', 'xd_allow_split_zs_kz': '0', 'xd_allow_split_zs_more_line': '1', 'xd_allow_split_zs_no_direction': '0'}\n",
      "交易总手续费 : 0\n"
     ]
    },
    {
     "name": "stdout",
     "output_type": "stream",
     "text": [
      "+--------------+------+------+------+------+------+--------+----------+----------+----------+--------+\n",
      "|    买卖点    | 成功 | 失败 | 胜率 | 盈利 | 亏损 | 净利润 | 回吐比例 | 平均盈利 | 平均亏损 | 盈亏比 |\n",
      "+--------------+------+------+------+------+------+--------+----------+----------+----------+--------+\n",
      "|   一类买点   |  0   |  0   |  0%  |  0   |  0   |   0    |    0     |    0     |    0     |   0    |\n",
      "|   二类买点   |  0   |  0   |  0%  |  0   |  0   |   0    |    0     |    0     |    0     |   0    |\n",
      "|  类二类买点  |  0   |  0   |  0%  |  0   |  0   |   0    |    0     |    0     |    0     |   0    |\n",
      "|   三类买点   |  0   |  0   |  0%  |  0   |  0   |   0    |    0     |    0     |    0     |   0    |\n",
      "|  类三类买点  |  0   |  0   |  0%  |  0   |  0   |   0    |    0     |    0     |    0     |   0    |\n",
      "|  下跌笔背驰  |  0   |  0   |  0%  |  0   |  0   |   0    |    0     |    0     |    0     |   0    |\n",
      "| 下跌线段背驰 |  0   |  0   |  0%  |  0   |  0   |   0    |    0     |    0     |    0     |   0    |\n",
      "| 下跌盘整背驰 |  0   |  0   |  0%  |  0   |  0   |   0    |    0     |    0     |    0     |   0    |\n",
      "| 下跌趋势背驰 |  0   |  0   |  0%  |  0   |  0   |   0    |    0     |    0     |    0     |   0    |\n",
      "|   一类卖点   |  0   |  0   |  0%  |  0   |  0   |   0    |    0     |    0     |    0     |   0    |\n",
      "|   二类卖点   |  0   |  0   |  0%  |  0   |  0   |   0    |    0     |    0     |    0     |   0    |\n",
      "|  类二类卖点  |  0   |  0   |  0%  |  0   |  0   |   0    |    0     |    0     |    0     |   0    |\n",
      "|   三类卖点   |  0   |  0   |  0%  |  0   |  0   |   0    |    0     |    0     |    0     |   0    |\n",
      "|  类三类卖点  |  0   |  0   |  0%  |  0   |  0   |   0    |    0     |    0     |    0     |   0    |\n",
      "|  上涨笔背驰  |  0   |  0   |  0%  |  0   |  0   |   0    |    0     |    0     |    0     |   0    |\n",
      "| 上涨线段背驰 |  0   |  0   |  0%  |  0   |  0   |   0    |    0     |    0     |    0     |   0    |\n",
      "| 上涨盘整背驰 |  0   |  0   |  0%  |  0   |  0   |   0    |    0     |    0     |    0     |   0    |\n",
      "| 上涨趋势背驰 |  0   |  0   |  0%  |  0   |  0   |   0    |    0     |    0     |    0     |   0    |\n",
      "|     汇总     |  0   |  0   |  0%  |  0   |  0   |   0    |    0     |    0     |    0     |   0    |\n",
      "+--------------+------+------+------+------+------+--------+----------+----------+----------+--------+\n"
     ]
    }
   ],
   "source": [
    "# 输出回测结果\n",
    "BT.info()\n",
    "BT.result()\n",
    "\n",
    "# 信号模式结果，总盈利 110W\n",
    "# |   一类买点   |  4   |  7   | 36.36% |  89163.19 |  23073.57 |  66089.62 |  25.88   | 22290.8  | 3296.22  |  6.7625 |\n",
    "# |   二类买点   |  2   |  8   | 20.0%  |  65978.99 |  50110.35 |  15868.64 |  75.95   | 32989.49 | 6263.79  |  5.2667 |\n",
    "# |   三类买点   |  34  |  34  | 50.0%  | 872771.93 | 235193.11 | 637578.82 |  26.95   | 25669.76 | 6917.44  |  3.7109 |\n",
    "# |  类三类买点  |  20  |  24  | 45.45% | 368807.73 | 155924.38 | 212883.35 |  42.28   | 18440.39 | 6496.85  |  2.8384 |\n",
    "# | 下跌盘整背驰 |  2   |  5   | 28.57% | 211139.01 |  34745.79 | 176393.21 |  16.46   | 105569.5 | 6949.16  | 15.1917 |\n",
    "\n",
    "# 交易模式 最大持仓 10，总盈利 65W\n",
    "# 首个交易日：2017-01-03 00:00:00 最后交易日：2022-04-20 00:00:00 总交易日：1287\n",
    "# 起始资金：1000000 结束资金：1,656,654.08 总手续费：16,188.58\n",
    "# 基准收益率：1.47%  基准年化收益：0.27%\n",
    "# 总收益率：65.67% 年化收益率：12.25%\n",
    "# 最大回撤：-220,695.11 百分比最大回撤：-19.14% 最长回撤天数：789\n",
    "# 日均收益率：0.04% 收益标准差：1.06% Sharpe Ratio: 0.54 收益回撤比：3.43 \n",
    "# |   一类买点   |  4   |  6   | 40.0%  | 117552.34 |  28990.72 |  88561.61 |  24.66   |  29388.08 | 4831.79  |  6.0822 |\n",
    "# |   二类买点   |  2   |  7   | 22.22% |  97119.24 |  59261.18 |  37858.06 |  61.02   |  48559.62 | 8465.88  |  5.7359 |\n",
    "# |   三类买点   |  25  |  30  | 45.45% | 468874.21 | 221022.02 | 247852.19 |  47.14   |  18754.97 |  7367.4  |  2.5457 |\n",
    "# |  类三类买点  |  15  |  22  | 40.54% | 323706.58 |  192148.1 | 131558.48 |  59.36   |  21580.44 |  8734.0  |  2.4709 |\n",
    "# | 下跌盘整背驰 |  1   |  4   | 20.0%  | 193717.31 |  27356.51 | 166360.81 |  14.12   | 193717.31 | 6839.13  | 28.3249 |"
   ]
  },
  {
   "cell_type": "code",
   "execution_count": null,
   "metadata": {
    "pycharm": {
     "name": "#%%\n"
    },
    "tags": []
   },
   "outputs": [],
   "source": [
    "# 显示净盈利变化曲线\n",
    "BT.backtest_charts()"
   ]
  },
  {
   "cell_type": "code",
   "execution_count": null,
   "metadata": {},
   "outputs": [],
   "source": [
    "pos_df = BT.positions()\n",
    "pos_df['open_datetime'] = pd.to_datetime(pos_df['open_datetime']).dt.tz_localize(None)\n",
    "pos_df['close_datetime'] = pd.to_datetime(pos_df['close_datetime']).dt.tz_localize(None)\n",
    "pos_df.to_excel(\"positions_30m_direct.xlsx\")\n",
    "# pos_df.to_csv(\"positions_30m_direct.csv\")"
   ]
  },
  {
   "cell_type": "code",
   "execution_count": null,
   "metadata": {
    "execution": {
     "iopub.execute_input": "2022-05-06T01:26:40.121176Z",
     "iopub.status.busy": "2022-05-06T01:26:40.121176Z",
     "iopub.status.idle": "2022-05-06T01:26:40.212176Z",
     "shell.execute_reply": "2022-05-06T01:26:40.211174Z",
     "shell.execute_reply.started": "2022-05-06T01:26:40.121176Z"
    },
    "pycharm": {
     "name": "#%%\n"
    },
    "tags": []
   },
   "outputs": [],
   "source": [
    "# 显示历史持仓\n",
    "#设置显示全部行，不省略\n",
    "pd.set_option('display.max_rows',None)\n",
    "#设置显示全部列，不省略\n",
    "pd.set_option('display.max_columns',None)\n",
    "\n",
    "pos_df = BT.positions()\n",
    "pos_df = pos_df.sort_values(['profit_rate'])\n",
    "pos_codes = pos_df['code'].unique()\n",
    "\n",
    "print(len(pos_df), len(pos_df[pos_df['max_profit_rate'] >= 5]))\n",
    "pos_df"
   ]
  },
  {
   "cell_type": "code",
   "execution_count": null,
   "metadata": {
    "pycharm": {
     "name": "#%%\n"
    },
    "tags": []
   },
   "outputs": [],
   "source": [
    "# 展示图表\n",
    "code = pos_codes[0]\n",
    "print(BT.positions(code))\n",
    "# BT.show_charts(code, BT.frequencys[0], show_futu='macd')\n",
    "BT.show_charts(code, BT.frequencys[0])"
   ]
  },
  {
   "cell_type": "code",
   "execution_count": null,
   "metadata": {
    "pycharm": {
     "name": "#%%\n"
    },
    "tags": []
   },
   "outputs": [],
   "source": [
    "# 展示图表\n",
    "BT.show_charts(code, BT.frequencys[1])"
   ]
  },
  {
   "cell_type": "code",
   "execution_count": null,
   "metadata": {
    "pycharm": {
     "name": "#%%\n"
    },
    "tags": []
   },
   "outputs": [],
   "source": []
  },
  {
   "cell_type": "code",
   "execution_count": null,
   "metadata": {
    "pycharm": {
     "name": "#%%\n"
    },
    "tags": []
   },
   "outputs": [],
   "source": []
  },
  {
   "cell_type": "code",
   "execution_count": null,
   "metadata": {
    "pycharm": {
     "name": "#%%\n"
    },
    "tags": []
   },
   "outputs": [],
   "source": []
  },
  {
   "cell_type": "code",
   "execution_count": null,
   "metadata": {
    "pycharm": {
     "name": "#%%\n"
    },
    "tags": []
   },
   "outputs": [],
   "source": []
  },
  {
   "cell_type": "code",
   "execution_count": null,
   "metadata": {
    "pycharm": {
     "name": "#%%\n"
    }
   },
   "outputs": [],
   "source": []
  },
  {
   "cell_type": "code",
   "execution_count": null,
   "metadata": {
    "pycharm": {
     "name": "#%%\n"
    }
   },
   "outputs": [],
   "source": []
  }
 ],
 "metadata": {
  "kernelspec": {
   "display_name": "Python 3 (ipykernel)",
   "language": "python",
   "name": "python3"
  },
  "language_info": {
   "codemirror_mode": {
    "name": "ipython",
    "version": 3
   },
   "file_extension": ".py",
   "mimetype": "text/x-python",
   "name": "python",
   "nbconvert_exporter": "python",
   "pygments_lexer": "ipython3",
   "version": "3.11.10"
  }
 },
 "nbformat": 4,
 "nbformat_minor": 4
}
